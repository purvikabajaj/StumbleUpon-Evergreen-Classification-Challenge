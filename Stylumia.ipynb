{
  "nbformat": 4,
  "nbformat_minor": 0,
  "metadata": {
    "colab": {
      "name": "Stylumia.ipynb",
      "provenance": [],
      "collapsed_sections": []
    },
    "kernelspec": {
      "name": "python3",
      "display_name": "Python 3"
    }
  },
  "cells": [
    {
      "cell_type": "code",
      "metadata": {
        "colab": {
          "base_uri": "https://localhost:8080/"
        },
        "id": "ZtyJl0Q3_BvL",
        "outputId": "1961e35a-5caa-4db8-e701-7ad147b804f6"
      },
      "source": [
        "from google.colab import drive\r\n",
        "drive.mount('/content/drive')"
      ],
      "execution_count": 1,
      "outputs": [
        {
          "output_type": "stream",
          "text": [
            "Drive already mounted at /content/drive; to attempt to forcibly remount, call drive.mount(\"/content/drive\", force_remount=True).\n"
          ],
          "name": "stdout"
        }
      ]
    },
    {
      "cell_type": "code",
      "metadata": {
        "id": "CLvULXedA4Ud"
      },
      "source": [
        "import pandas as pd"
      ],
      "execution_count": 2,
      "outputs": []
    },
    {
      "cell_type": "markdown",
      "metadata": {
        "id": "tlXnUZh8ovS_"
      },
      "source": [
        "Train File"
      ]
    },
    {
      "cell_type": "code",
      "metadata": {
        "id": "NeNG24axfw2Y"
      },
      "source": [
        "df = pd.read_csv('/content/drive/MyDrive/Stylumia/train.tsv', sep='\\t')"
      ],
      "execution_count": 3,
      "outputs": []
    },
    {
      "cell_type": "code",
      "metadata": {
        "colab": {
          "base_uri": "https://localhost:8080/",
          "height": 534
        },
        "id": "IGz0J-s_f70u",
        "outputId": "ec6bbc5f-b21c-47f5-ebfb-18fb9c0e8766"
      },
      "source": [
        "df.head()"
      ],
      "execution_count": 4,
      "outputs": [
        {
          "output_type": "execute_result",
          "data": {
            "text/html": [
              "<div>\n",
              "<style scoped>\n",
              "    .dataframe tbody tr th:only-of-type {\n",
              "        vertical-align: middle;\n",
              "    }\n",
              "\n",
              "    .dataframe tbody tr th {\n",
              "        vertical-align: top;\n",
              "    }\n",
              "\n",
              "    .dataframe thead th {\n",
              "        text-align: right;\n",
              "    }\n",
              "</style>\n",
              "<table border=\"1\" class=\"dataframe\">\n",
              "  <thead>\n",
              "    <tr style=\"text-align: right;\">\n",
              "      <th></th>\n",
              "      <th>url</th>\n",
              "      <th>urlid</th>\n",
              "      <th>boilerplate</th>\n",
              "      <th>alchemy_category</th>\n",
              "      <th>alchemy_category_score</th>\n",
              "      <th>avglinksize</th>\n",
              "      <th>commonlinkratio_1</th>\n",
              "      <th>commonlinkratio_2</th>\n",
              "      <th>commonlinkratio_3</th>\n",
              "      <th>commonlinkratio_4</th>\n",
              "      <th>compression_ratio</th>\n",
              "      <th>embed_ratio</th>\n",
              "      <th>framebased</th>\n",
              "      <th>frameTagRatio</th>\n",
              "      <th>hasDomainLink</th>\n",
              "      <th>html_ratio</th>\n",
              "      <th>image_ratio</th>\n",
              "      <th>is_news</th>\n",
              "      <th>lengthyLinkDomain</th>\n",
              "      <th>linkwordscore</th>\n",
              "      <th>news_front_page</th>\n",
              "      <th>non_markup_alphanum_characters</th>\n",
              "      <th>numberOfLinks</th>\n",
              "      <th>numwords_in_url</th>\n",
              "      <th>parametrizedLinkRatio</th>\n",
              "      <th>spelling_errors_ratio</th>\n",
              "      <th>label</th>\n",
              "    </tr>\n",
              "  </thead>\n",
              "  <tbody>\n",
              "    <tr>\n",
              "      <th>0</th>\n",
              "      <td>http://www.bloomberg.com/news/2010-12-23/ibm-p...</td>\n",
              "      <td>4042</td>\n",
              "      <td>{\"title\":\"IBM Sees Holographic Calls Air Breat...</td>\n",
              "      <td>business</td>\n",
              "      <td>0.789131</td>\n",
              "      <td>2.055556</td>\n",
              "      <td>0.676471</td>\n",
              "      <td>0.205882</td>\n",
              "      <td>0.047059</td>\n",
              "      <td>0.023529</td>\n",
              "      <td>0.443783</td>\n",
              "      <td>0.0</td>\n",
              "      <td>0</td>\n",
              "      <td>0.090774</td>\n",
              "      <td>0</td>\n",
              "      <td>0.245831</td>\n",
              "      <td>0.003883</td>\n",
              "      <td>1</td>\n",
              "      <td>1</td>\n",
              "      <td>24</td>\n",
              "      <td>0</td>\n",
              "      <td>5424</td>\n",
              "      <td>170</td>\n",
              "      <td>8</td>\n",
              "      <td>0.152941</td>\n",
              "      <td>0.079130</td>\n",
              "      <td>0</td>\n",
              "    </tr>\n",
              "    <tr>\n",
              "      <th>1</th>\n",
              "      <td>http://www.popsci.com/technology/article/2012-...</td>\n",
              "      <td>8471</td>\n",
              "      <td>{\"title\":\"The Fully Electronic Futuristic Star...</td>\n",
              "      <td>recreation</td>\n",
              "      <td>0.574147</td>\n",
              "      <td>3.677966</td>\n",
              "      <td>0.508021</td>\n",
              "      <td>0.288770</td>\n",
              "      <td>0.213904</td>\n",
              "      <td>0.144385</td>\n",
              "      <td>0.468649</td>\n",
              "      <td>0.0</td>\n",
              "      <td>0</td>\n",
              "      <td>0.098707</td>\n",
              "      <td>0</td>\n",
              "      <td>0.203490</td>\n",
              "      <td>0.088652</td>\n",
              "      <td>1</td>\n",
              "      <td>1</td>\n",
              "      <td>40</td>\n",
              "      <td>0</td>\n",
              "      <td>4973</td>\n",
              "      <td>187</td>\n",
              "      <td>9</td>\n",
              "      <td>0.181818</td>\n",
              "      <td>0.125448</td>\n",
              "      <td>1</td>\n",
              "    </tr>\n",
              "    <tr>\n",
              "      <th>2</th>\n",
              "      <td>http://www.menshealth.com/health/flu-fighting-...</td>\n",
              "      <td>1164</td>\n",
              "      <td>{\"title\":\"Fruits that Fight the Flu fruits tha...</td>\n",
              "      <td>health</td>\n",
              "      <td>0.996526</td>\n",
              "      <td>2.382883</td>\n",
              "      <td>0.562016</td>\n",
              "      <td>0.321705</td>\n",
              "      <td>0.120155</td>\n",
              "      <td>0.042636</td>\n",
              "      <td>0.525448</td>\n",
              "      <td>0.0</td>\n",
              "      <td>0</td>\n",
              "      <td>0.072448</td>\n",
              "      <td>0</td>\n",
              "      <td>0.226402</td>\n",
              "      <td>0.120536</td>\n",
              "      <td>1</td>\n",
              "      <td>1</td>\n",
              "      <td>55</td>\n",
              "      <td>0</td>\n",
              "      <td>2240</td>\n",
              "      <td>258</td>\n",
              "      <td>11</td>\n",
              "      <td>0.166667</td>\n",
              "      <td>0.057613</td>\n",
              "      <td>1</td>\n",
              "    </tr>\n",
              "    <tr>\n",
              "      <th>3</th>\n",
              "      <td>http://www.dumblittleman.com/2007/12/10-foolpr...</td>\n",
              "      <td>6684</td>\n",
              "      <td>{\"title\":\"10 Foolproof Tips for Better Sleep \"...</td>\n",
              "      <td>health</td>\n",
              "      <td>0.801248</td>\n",
              "      <td>1.543103</td>\n",
              "      <td>0.400000</td>\n",
              "      <td>0.100000</td>\n",
              "      <td>0.016667</td>\n",
              "      <td>0.000000</td>\n",
              "      <td>0.480725</td>\n",
              "      <td>0.0</td>\n",
              "      <td>0</td>\n",
              "      <td>0.095861</td>\n",
              "      <td>0</td>\n",
              "      <td>0.265656</td>\n",
              "      <td>0.035343</td>\n",
              "      <td>1</td>\n",
              "      <td>0</td>\n",
              "      <td>24</td>\n",
              "      <td>0</td>\n",
              "      <td>2737</td>\n",
              "      <td>120</td>\n",
              "      <td>5</td>\n",
              "      <td>0.041667</td>\n",
              "      <td>0.100858</td>\n",
              "      <td>1</td>\n",
              "    </tr>\n",
              "    <tr>\n",
              "      <th>4</th>\n",
              "      <td>http://bleacherreport.com/articles/1205138-the...</td>\n",
              "      <td>9006</td>\n",
              "      <td>{\"title\":\"The 50 Coolest Jerseys You Didn t Kn...</td>\n",
              "      <td>sports</td>\n",
              "      <td>0.719157</td>\n",
              "      <td>2.676471</td>\n",
              "      <td>0.500000</td>\n",
              "      <td>0.222222</td>\n",
              "      <td>0.123457</td>\n",
              "      <td>0.043210</td>\n",
              "      <td>0.446143</td>\n",
              "      <td>0.0</td>\n",
              "      <td>0</td>\n",
              "      <td>0.024908</td>\n",
              "      <td>0</td>\n",
              "      <td>0.228887</td>\n",
              "      <td>0.050473</td>\n",
              "      <td>1</td>\n",
              "      <td>1</td>\n",
              "      <td>14</td>\n",
              "      <td>0</td>\n",
              "      <td>12032</td>\n",
              "      <td>162</td>\n",
              "      <td>10</td>\n",
              "      <td>0.098765</td>\n",
              "      <td>0.082569</td>\n",
              "      <td>0</td>\n",
              "    </tr>\n",
              "  </tbody>\n",
              "</table>\n",
              "</div>"
            ],
            "text/plain": [
              "                                                 url  ...  label\n",
              "0  http://www.bloomberg.com/news/2010-12-23/ibm-p...  ...      0\n",
              "1  http://www.popsci.com/technology/article/2012-...  ...      1\n",
              "2  http://www.menshealth.com/health/flu-fighting-...  ...      1\n",
              "3  http://www.dumblittleman.com/2007/12/10-foolpr...  ...      1\n",
              "4  http://bleacherreport.com/articles/1205138-the...  ...      0\n",
              "\n",
              "[5 rows x 27 columns]"
            ]
          },
          "metadata": {
            "tags": []
          },
          "execution_count": 4
        }
      ]
    },
    {
      "cell_type": "code",
      "metadata": {
        "colab": {
          "base_uri": "https://localhost:8080/"
        },
        "id": "2FpUwB_oNITP",
        "outputId": "0df7d6da-e6fb-4fd8-8be6-846198db6f37"
      },
      "source": [
        "df['is_news'].unique()"
      ],
      "execution_count": 5,
      "outputs": [
        {
          "output_type": "execute_result",
          "data": {
            "text/plain": [
              "array(['1', '?'], dtype=object)"
            ]
          },
          "metadata": {
            "tags": []
          },
          "execution_count": 5
        }
      ]
    },
    {
      "cell_type": "code",
      "metadata": {
        "colab": {
          "base_uri": "https://localhost:8080/",
          "height": 465
        },
        "id": "UyyUlluvHzh0",
        "outputId": "bcf6cf20-f2fb-4e9e-81fe-cb4e12d62b4a"
      },
      "source": [
        "df.tail()"
      ],
      "execution_count": 6,
      "outputs": [
        {
          "output_type": "execute_result",
          "data": {
            "text/html": [
              "<div>\n",
              "<style scoped>\n",
              "    .dataframe tbody tr th:only-of-type {\n",
              "        vertical-align: middle;\n",
              "    }\n",
              "\n",
              "    .dataframe tbody tr th {\n",
              "        vertical-align: top;\n",
              "    }\n",
              "\n",
              "    .dataframe thead th {\n",
              "        text-align: right;\n",
              "    }\n",
              "</style>\n",
              "<table border=\"1\" class=\"dataframe\">\n",
              "  <thead>\n",
              "    <tr style=\"text-align: right;\">\n",
              "      <th></th>\n",
              "      <th>url</th>\n",
              "      <th>urlid</th>\n",
              "      <th>boilerplate</th>\n",
              "      <th>alchemy_category</th>\n",
              "      <th>alchemy_category_score</th>\n",
              "      <th>avglinksize</th>\n",
              "      <th>commonlinkratio_1</th>\n",
              "      <th>commonlinkratio_2</th>\n",
              "      <th>commonlinkratio_3</th>\n",
              "      <th>commonlinkratio_4</th>\n",
              "      <th>compression_ratio</th>\n",
              "      <th>embed_ratio</th>\n",
              "      <th>framebased</th>\n",
              "      <th>frameTagRatio</th>\n",
              "      <th>hasDomainLink</th>\n",
              "      <th>html_ratio</th>\n",
              "      <th>image_ratio</th>\n",
              "      <th>is_news</th>\n",
              "      <th>lengthyLinkDomain</th>\n",
              "      <th>linkwordscore</th>\n",
              "      <th>news_front_page</th>\n",
              "      <th>non_markup_alphanum_characters</th>\n",
              "      <th>numberOfLinks</th>\n",
              "      <th>numwords_in_url</th>\n",
              "      <th>parametrizedLinkRatio</th>\n",
              "      <th>spelling_errors_ratio</th>\n",
              "      <th>label</th>\n",
              "    </tr>\n",
              "  </thead>\n",
              "  <tbody>\n",
              "    <tr>\n",
              "      <th>7390</th>\n",
              "      <td>http://techcrunch.com/2010/09/08/kno-raises-46...</td>\n",
              "      <td>8958</td>\n",
              "      <td>{\"title\":\"Kno Raises 46 Million More To Build ...</td>\n",
              "      <td>computer_internet</td>\n",
              "      <td>0.651067</td>\n",
              "      <td>3.010526</td>\n",
              "      <td>0.474747</td>\n",
              "      <td>0.222222</td>\n",
              "      <td>0.191919</td>\n",
              "      <td>0.191919</td>\n",
              "      <td>0.474273</td>\n",
              "      <td>0.0</td>\n",
              "      <td>0</td>\n",
              "      <td>0.177043</td>\n",
              "      <td>0</td>\n",
              "      <td>0.256669</td>\n",
              "      <td>0.048780</td>\n",
              "      <td>1</td>\n",
              "      <td>1</td>\n",
              "      <td>38</td>\n",
              "      <td>0</td>\n",
              "      <td>2219</td>\n",
              "      <td>99</td>\n",
              "      <td>11</td>\n",
              "      <td>0.040404</td>\n",
              "      <td>0.071429</td>\n",
              "      <td>0</td>\n",
              "    </tr>\n",
              "    <tr>\n",
              "      <th>7391</th>\n",
              "      <td>http://www.uncoached.com/category/why-i-miss-c...</td>\n",
              "      <td>8895</td>\n",
              "      <td>{\"title\":\"Why I Miss College \",\"body\":\"Mar 30 ...</td>\n",
              "      <td>culture_politics</td>\n",
              "      <td>0.14192</td>\n",
              "      <td>2.208054</td>\n",
              "      <td>0.483333</td>\n",
              "      <td>0.246667</td>\n",
              "      <td>0.036667</td>\n",
              "      <td>0.026667</td>\n",
              "      <td>0.558184</td>\n",
              "      <td>0.0</td>\n",
              "      <td>0</td>\n",
              "      <td>0.057377</td>\n",
              "      <td>0</td>\n",
              "      <td>0.218014</td>\n",
              "      <td>0.225962</td>\n",
              "      <td>1</td>\n",
              "      <td>1</td>\n",
              "      <td>34</td>\n",
              "      <td>0</td>\n",
              "      <td>5672</td>\n",
              "      <td>300</td>\n",
              "      <td>4</td>\n",
              "      <td>0.020000</td>\n",
              "      <td>0.109453</td>\n",
              "      <td>0</td>\n",
              "    </tr>\n",
              "    <tr>\n",
              "      <th>7392</th>\n",
              "      <td>http://eatthis.menshealth.com/slide/sweet-pota...</td>\n",
              "      <td>1191</td>\n",
              "      <td>{\"title\":\"Sweet Potatoes Eat This Not That  i'...</td>\n",
              "      <td>recreation</td>\n",
              "      <td>0.196273</td>\n",
              "      <td>2.000000</td>\n",
              "      <td>0.315789</td>\n",
              "      <td>0.171053</td>\n",
              "      <td>0.105263</td>\n",
              "      <td>0.052632</td>\n",
              "      <td>0.692529</td>\n",
              "      <td>0.0</td>\n",
              "      <td>0</td>\n",
              "      <td>0.124122</td>\n",
              "      <td>0</td>\n",
              "      <td>0.248388</td>\n",
              "      <td>0.464286</td>\n",
              "      <td>?</td>\n",
              "      <td>1</td>\n",
              "      <td>43</td>\n",
              "      <td>0</td>\n",
              "      <td>848</td>\n",
              "      <td>76</td>\n",
              "      <td>5</td>\n",
              "      <td>0.434211</td>\n",
              "      <td>0.117647</td>\n",
              "      <td>1</td>\n",
              "    </tr>\n",
              "    <tr>\n",
              "      <th>7393</th>\n",
              "      <td>http://naturallyella.com/</td>\n",
              "      <td>5612</td>\n",
              "      <td>{\"title\":\"Naturally Ella \",\"body\":\" \",\"url\":\"n...</td>\n",
              "      <td>arts_entertainment</td>\n",
              "      <td>0.617876</td>\n",
              "      <td>1.026316</td>\n",
              "      <td>0.210526</td>\n",
              "      <td>0.052632</td>\n",
              "      <td>0.000000</td>\n",
              "      <td>0.000000</td>\n",
              "      <td>21.000000</td>\n",
              "      <td>-1.0</td>\n",
              "      <td>0</td>\n",
              "      <td>0.097778</td>\n",
              "      <td>0</td>\n",
              "      <td>0.256070</td>\n",
              "      <td>-1.000000</td>\n",
              "      <td>1</td>\n",
              "      <td>0</td>\n",
              "      <td>37</td>\n",
              "      <td>1</td>\n",
              "      <td>386</td>\n",
              "      <td>38</td>\n",
              "      <td>0</td>\n",
              "      <td>0.026316</td>\n",
              "      <td>0.333333</td>\n",
              "      <td>1</td>\n",
              "    </tr>\n",
              "    <tr>\n",
              "      <th>7394</th>\n",
              "      <td>http://sportsillustrated.cnn.com/2011_swimsuit...</td>\n",
              "      <td>90</td>\n",
              "      <td>{\"title\":\"Esti Ginzburg Swimsuit by Letarte by...</td>\n",
              "      <td>?</td>\n",
              "      <td>?</td>\n",
              "      <td>1.158209</td>\n",
              "      <td>0.505917</td>\n",
              "      <td>0.428994</td>\n",
              "      <td>0.023669</td>\n",
              "      <td>0.000000</td>\n",
              "      <td>0.434146</td>\n",
              "      <td>0.0</td>\n",
              "      <td>0</td>\n",
              "      <td>0.028451</td>\n",
              "      <td>0</td>\n",
              "      <td>0.137454</td>\n",
              "      <td>1.069231</td>\n",
              "      <td>?</td>\n",
              "      <td>0</td>\n",
              "      <td>78</td>\n",
              "      <td>?</td>\n",
              "      <td>515</td>\n",
              "      <td>338</td>\n",
              "      <td>4</td>\n",
              "      <td>0.005917</td>\n",
              "      <td>0.134146</td>\n",
              "      <td>0</td>\n",
              "    </tr>\n",
              "  </tbody>\n",
              "</table>\n",
              "</div>"
            ],
            "text/plain": [
              "                                                    url  ...  label\n",
              "7390  http://techcrunch.com/2010/09/08/kno-raises-46...  ...      0\n",
              "7391  http://www.uncoached.com/category/why-i-miss-c...  ...      0\n",
              "7392  http://eatthis.menshealth.com/slide/sweet-pota...  ...      1\n",
              "7393                          http://naturallyella.com/  ...      1\n",
              "7394  http://sportsillustrated.cnn.com/2011_swimsuit...  ...      0\n",
              "\n",
              "[5 rows x 27 columns]"
            ]
          },
          "metadata": {
            "tags": []
          },
          "execution_count": 6
        }
      ]
    },
    {
      "cell_type": "code",
      "metadata": {
        "colab": {
          "base_uri": "https://localhost:8080/"
        },
        "id": "3PeWBvHZgAGV",
        "outputId": "ead3a59b-2f69-4e45-ef44-b74ff425e689"
      },
      "source": [
        "df.isna().sum()"
      ],
      "execution_count": 7,
      "outputs": [
        {
          "output_type": "execute_result",
          "data": {
            "text/plain": [
              "url                               0\n",
              "urlid                             0\n",
              "boilerplate                       0\n",
              "alchemy_category                  0\n",
              "alchemy_category_score            0\n",
              "avglinksize                       0\n",
              "commonlinkratio_1                 0\n",
              "commonlinkratio_2                 0\n",
              "commonlinkratio_3                 0\n",
              "commonlinkratio_4                 0\n",
              "compression_ratio                 0\n",
              "embed_ratio                       0\n",
              "framebased                        0\n",
              "frameTagRatio                     0\n",
              "hasDomainLink                     0\n",
              "html_ratio                        0\n",
              "image_ratio                       0\n",
              "is_news                           0\n",
              "lengthyLinkDomain                 0\n",
              "linkwordscore                     0\n",
              "news_front_page                   0\n",
              "non_markup_alphanum_characters    0\n",
              "numberOfLinks                     0\n",
              "numwords_in_url                   0\n",
              "parametrizedLinkRatio             0\n",
              "spelling_errors_ratio             0\n",
              "label                             0\n",
              "dtype: int64"
            ]
          },
          "metadata": {
            "tags": []
          },
          "execution_count": 7
        }
      ]
    },
    {
      "cell_type": "code",
      "metadata": {
        "colab": {
          "base_uri": "https://localhost:8080/"
        },
        "id": "LllgZiOU_ed9",
        "outputId": "c3beb186-1581-4d16-e0b2-b7dcb6196f0b"
      },
      "source": [
        "df.columns"
      ],
      "execution_count": 8,
      "outputs": [
        {
          "output_type": "execute_result",
          "data": {
            "text/plain": [
              "Index(['url', 'urlid', 'boilerplate', 'alchemy_category',\n",
              "       'alchemy_category_score', 'avglinksize', 'commonlinkratio_1',\n",
              "       'commonlinkratio_2', 'commonlinkratio_3', 'commonlinkratio_4',\n",
              "       'compression_ratio', 'embed_ratio', 'framebased', 'frameTagRatio',\n",
              "       'hasDomainLink', 'html_ratio', 'image_ratio', 'is_news',\n",
              "       'lengthyLinkDomain', 'linkwordscore', 'news_front_page',\n",
              "       'non_markup_alphanum_characters', 'numberOfLinks', 'numwords_in_url',\n",
              "       'parametrizedLinkRatio', 'spelling_errors_ratio', 'label'],\n",
              "      dtype='object')"
            ]
          },
          "metadata": {
            "tags": []
          },
          "execution_count": 8
        }
      ]
    },
    {
      "cell_type": "code",
      "metadata": {
        "id": "PiXSFDjLE9Ls"
      },
      "source": [
        "missing_values = '?'\r\n",
        "df = pd.read_csv('/content/drive/MyDrive/Stylumia/train.tsv', sep='\\t', na_values = missing_values)"
      ],
      "execution_count": 9,
      "outputs": []
    },
    {
      "cell_type": "code",
      "metadata": {
        "colab": {
          "base_uri": "https://localhost:8080/",
          "height": 465
        },
        "id": "elWCpAFXJfA7",
        "outputId": "7ab224f3-4856-4202-9719-6ab8e7c2d73d"
      },
      "source": [
        "df.tail()"
      ],
      "execution_count": 10,
      "outputs": [
        {
          "output_type": "execute_result",
          "data": {
            "text/html": [
              "<div>\n",
              "<style scoped>\n",
              "    .dataframe tbody tr th:only-of-type {\n",
              "        vertical-align: middle;\n",
              "    }\n",
              "\n",
              "    .dataframe tbody tr th {\n",
              "        vertical-align: top;\n",
              "    }\n",
              "\n",
              "    .dataframe thead th {\n",
              "        text-align: right;\n",
              "    }\n",
              "</style>\n",
              "<table border=\"1\" class=\"dataframe\">\n",
              "  <thead>\n",
              "    <tr style=\"text-align: right;\">\n",
              "      <th></th>\n",
              "      <th>url</th>\n",
              "      <th>urlid</th>\n",
              "      <th>boilerplate</th>\n",
              "      <th>alchemy_category</th>\n",
              "      <th>alchemy_category_score</th>\n",
              "      <th>avglinksize</th>\n",
              "      <th>commonlinkratio_1</th>\n",
              "      <th>commonlinkratio_2</th>\n",
              "      <th>commonlinkratio_3</th>\n",
              "      <th>commonlinkratio_4</th>\n",
              "      <th>compression_ratio</th>\n",
              "      <th>embed_ratio</th>\n",
              "      <th>framebased</th>\n",
              "      <th>frameTagRatio</th>\n",
              "      <th>hasDomainLink</th>\n",
              "      <th>html_ratio</th>\n",
              "      <th>image_ratio</th>\n",
              "      <th>is_news</th>\n",
              "      <th>lengthyLinkDomain</th>\n",
              "      <th>linkwordscore</th>\n",
              "      <th>news_front_page</th>\n",
              "      <th>non_markup_alphanum_characters</th>\n",
              "      <th>numberOfLinks</th>\n",
              "      <th>numwords_in_url</th>\n",
              "      <th>parametrizedLinkRatio</th>\n",
              "      <th>spelling_errors_ratio</th>\n",
              "      <th>label</th>\n",
              "    </tr>\n",
              "  </thead>\n",
              "  <tbody>\n",
              "    <tr>\n",
              "      <th>7390</th>\n",
              "      <td>http://techcrunch.com/2010/09/08/kno-raises-46...</td>\n",
              "      <td>8958</td>\n",
              "      <td>{\"title\":\"Kno Raises 46 Million More To Build ...</td>\n",
              "      <td>computer_internet</td>\n",
              "      <td>0.651067</td>\n",
              "      <td>3.010526</td>\n",
              "      <td>0.474747</td>\n",
              "      <td>0.222222</td>\n",
              "      <td>0.191919</td>\n",
              "      <td>0.191919</td>\n",
              "      <td>0.474273</td>\n",
              "      <td>0.0</td>\n",
              "      <td>0</td>\n",
              "      <td>0.177043</td>\n",
              "      <td>0</td>\n",
              "      <td>0.256669</td>\n",
              "      <td>0.048780</td>\n",
              "      <td>1.0</td>\n",
              "      <td>1</td>\n",
              "      <td>38</td>\n",
              "      <td>0.0</td>\n",
              "      <td>2219</td>\n",
              "      <td>99</td>\n",
              "      <td>11</td>\n",
              "      <td>0.040404</td>\n",
              "      <td>0.071429</td>\n",
              "      <td>0</td>\n",
              "    </tr>\n",
              "    <tr>\n",
              "      <th>7391</th>\n",
              "      <td>http://www.uncoached.com/category/why-i-miss-c...</td>\n",
              "      <td>8895</td>\n",
              "      <td>{\"title\":\"Why I Miss College \",\"body\":\"Mar 30 ...</td>\n",
              "      <td>culture_politics</td>\n",
              "      <td>0.141920</td>\n",
              "      <td>2.208054</td>\n",
              "      <td>0.483333</td>\n",
              "      <td>0.246667</td>\n",
              "      <td>0.036667</td>\n",
              "      <td>0.026667</td>\n",
              "      <td>0.558184</td>\n",
              "      <td>0.0</td>\n",
              "      <td>0</td>\n",
              "      <td>0.057377</td>\n",
              "      <td>0</td>\n",
              "      <td>0.218014</td>\n",
              "      <td>0.225962</td>\n",
              "      <td>1.0</td>\n",
              "      <td>1</td>\n",
              "      <td>34</td>\n",
              "      <td>0.0</td>\n",
              "      <td>5672</td>\n",
              "      <td>300</td>\n",
              "      <td>4</td>\n",
              "      <td>0.020000</td>\n",
              "      <td>0.109453</td>\n",
              "      <td>0</td>\n",
              "    </tr>\n",
              "    <tr>\n",
              "      <th>7392</th>\n",
              "      <td>http://eatthis.menshealth.com/slide/sweet-pota...</td>\n",
              "      <td>1191</td>\n",
              "      <td>{\"title\":\"Sweet Potatoes Eat This Not That  i'...</td>\n",
              "      <td>recreation</td>\n",
              "      <td>0.196273</td>\n",
              "      <td>2.000000</td>\n",
              "      <td>0.315789</td>\n",
              "      <td>0.171053</td>\n",
              "      <td>0.105263</td>\n",
              "      <td>0.052632</td>\n",
              "      <td>0.692529</td>\n",
              "      <td>0.0</td>\n",
              "      <td>0</td>\n",
              "      <td>0.124122</td>\n",
              "      <td>0</td>\n",
              "      <td>0.248388</td>\n",
              "      <td>0.464286</td>\n",
              "      <td>NaN</td>\n",
              "      <td>1</td>\n",
              "      <td>43</td>\n",
              "      <td>0.0</td>\n",
              "      <td>848</td>\n",
              "      <td>76</td>\n",
              "      <td>5</td>\n",
              "      <td>0.434211</td>\n",
              "      <td>0.117647</td>\n",
              "      <td>1</td>\n",
              "    </tr>\n",
              "    <tr>\n",
              "      <th>7393</th>\n",
              "      <td>http://naturallyella.com/</td>\n",
              "      <td>5612</td>\n",
              "      <td>{\"title\":\"Naturally Ella \",\"body\":\" \",\"url\":\"n...</td>\n",
              "      <td>arts_entertainment</td>\n",
              "      <td>0.617876</td>\n",
              "      <td>1.026316</td>\n",
              "      <td>0.210526</td>\n",
              "      <td>0.052632</td>\n",
              "      <td>0.000000</td>\n",
              "      <td>0.000000</td>\n",
              "      <td>21.000000</td>\n",
              "      <td>-1.0</td>\n",
              "      <td>0</td>\n",
              "      <td>0.097778</td>\n",
              "      <td>0</td>\n",
              "      <td>0.256070</td>\n",
              "      <td>-1.000000</td>\n",
              "      <td>1.0</td>\n",
              "      <td>0</td>\n",
              "      <td>37</td>\n",
              "      <td>1.0</td>\n",
              "      <td>386</td>\n",
              "      <td>38</td>\n",
              "      <td>0</td>\n",
              "      <td>0.026316</td>\n",
              "      <td>0.333333</td>\n",
              "      <td>1</td>\n",
              "    </tr>\n",
              "    <tr>\n",
              "      <th>7394</th>\n",
              "      <td>http://sportsillustrated.cnn.com/2011_swimsuit...</td>\n",
              "      <td>90</td>\n",
              "      <td>{\"title\":\"Esti Ginzburg Swimsuit by Letarte by...</td>\n",
              "      <td>NaN</td>\n",
              "      <td>NaN</td>\n",
              "      <td>1.158209</td>\n",
              "      <td>0.505917</td>\n",
              "      <td>0.428994</td>\n",
              "      <td>0.023669</td>\n",
              "      <td>0.000000</td>\n",
              "      <td>0.434146</td>\n",
              "      <td>0.0</td>\n",
              "      <td>0</td>\n",
              "      <td>0.028451</td>\n",
              "      <td>0</td>\n",
              "      <td>0.137454</td>\n",
              "      <td>1.069231</td>\n",
              "      <td>NaN</td>\n",
              "      <td>0</td>\n",
              "      <td>78</td>\n",
              "      <td>NaN</td>\n",
              "      <td>515</td>\n",
              "      <td>338</td>\n",
              "      <td>4</td>\n",
              "      <td>0.005917</td>\n",
              "      <td>0.134146</td>\n",
              "      <td>0</td>\n",
              "    </tr>\n",
              "  </tbody>\n",
              "</table>\n",
              "</div>"
            ],
            "text/plain": [
              "                                                    url  ...  label\n",
              "7390  http://techcrunch.com/2010/09/08/kno-raises-46...  ...      0\n",
              "7391  http://www.uncoached.com/category/why-i-miss-c...  ...      0\n",
              "7392  http://eatthis.menshealth.com/slide/sweet-pota...  ...      1\n",
              "7393                          http://naturallyella.com/  ...      1\n",
              "7394  http://sportsillustrated.cnn.com/2011_swimsuit...  ...      0\n",
              "\n",
              "[5 rows x 27 columns]"
            ]
          },
          "metadata": {
            "tags": []
          },
          "execution_count": 10
        }
      ]
    },
    {
      "cell_type": "code",
      "metadata": {
        "colab": {
          "base_uri": "https://localhost:8080/"
        },
        "id": "7Ugn-GUhJtlL",
        "outputId": "c711914c-d86f-4a2c-9547-69f5682ac4f2"
      },
      "source": [
        "df.isnull().sum()"
      ],
      "execution_count": 11,
      "outputs": [
        {
          "output_type": "execute_result",
          "data": {
            "text/plain": [
              "url                                  0\n",
              "urlid                                0\n",
              "boilerplate                          0\n",
              "alchemy_category                  2342\n",
              "alchemy_category_score            2342\n",
              "avglinksize                          0\n",
              "commonlinkratio_1                    0\n",
              "commonlinkratio_2                    0\n",
              "commonlinkratio_3                    0\n",
              "commonlinkratio_4                    0\n",
              "compression_ratio                    0\n",
              "embed_ratio                          0\n",
              "framebased                           0\n",
              "frameTagRatio                        0\n",
              "hasDomainLink                        0\n",
              "html_ratio                           0\n",
              "image_ratio                          0\n",
              "is_news                           2843\n",
              "lengthyLinkDomain                    0\n",
              "linkwordscore                        0\n",
              "news_front_page                   1248\n",
              "non_markup_alphanum_characters       0\n",
              "numberOfLinks                        0\n",
              "numwords_in_url                      0\n",
              "parametrizedLinkRatio                0\n",
              "spelling_errors_ratio                0\n",
              "label                                0\n",
              "dtype: int64"
            ]
          },
          "metadata": {
            "tags": []
          },
          "execution_count": 11
        }
      ]
    },
    {
      "cell_type": "code",
      "metadata": {
        "id": "nY9x_DsELbDi"
      },
      "source": [
        "df['alchemy_category'] = df['alchemy_category'].fillna('Unknown Category')\r\n",
        "df['alchemy_category_score'].fillna(df['alchemy_category_score'].mean(),inplace=True)\r\n",
        "df['is_news'] = df['is_news'].fillna('1')\r\n",
        "df['news_front_page'].fillna(df['news_front_page'].mean(),inplace=True)"
      ],
      "execution_count": 12,
      "outputs": []
    },
    {
      "cell_type": "code",
      "metadata": {
        "colab": {
          "base_uri": "https://localhost:8080/",
          "height": 465
        },
        "id": "ECZoDDX6NokW",
        "outputId": "99ba3011-8d79-4a9e-d4a1-578f9853bc69"
      },
      "source": [
        "df.tail()"
      ],
      "execution_count": 13,
      "outputs": [
        {
          "output_type": "execute_result",
          "data": {
            "text/html": [
              "<div>\n",
              "<style scoped>\n",
              "    .dataframe tbody tr th:only-of-type {\n",
              "        vertical-align: middle;\n",
              "    }\n",
              "\n",
              "    .dataframe tbody tr th {\n",
              "        vertical-align: top;\n",
              "    }\n",
              "\n",
              "    .dataframe thead th {\n",
              "        text-align: right;\n",
              "    }\n",
              "</style>\n",
              "<table border=\"1\" class=\"dataframe\">\n",
              "  <thead>\n",
              "    <tr style=\"text-align: right;\">\n",
              "      <th></th>\n",
              "      <th>url</th>\n",
              "      <th>urlid</th>\n",
              "      <th>boilerplate</th>\n",
              "      <th>alchemy_category</th>\n",
              "      <th>alchemy_category_score</th>\n",
              "      <th>avglinksize</th>\n",
              "      <th>commonlinkratio_1</th>\n",
              "      <th>commonlinkratio_2</th>\n",
              "      <th>commonlinkratio_3</th>\n",
              "      <th>commonlinkratio_4</th>\n",
              "      <th>compression_ratio</th>\n",
              "      <th>embed_ratio</th>\n",
              "      <th>framebased</th>\n",
              "      <th>frameTagRatio</th>\n",
              "      <th>hasDomainLink</th>\n",
              "      <th>html_ratio</th>\n",
              "      <th>image_ratio</th>\n",
              "      <th>is_news</th>\n",
              "      <th>lengthyLinkDomain</th>\n",
              "      <th>linkwordscore</th>\n",
              "      <th>news_front_page</th>\n",
              "      <th>non_markup_alphanum_characters</th>\n",
              "      <th>numberOfLinks</th>\n",
              "      <th>numwords_in_url</th>\n",
              "      <th>parametrizedLinkRatio</th>\n",
              "      <th>spelling_errors_ratio</th>\n",
              "      <th>label</th>\n",
              "    </tr>\n",
              "  </thead>\n",
              "  <tbody>\n",
              "    <tr>\n",
              "      <th>7390</th>\n",
              "      <td>http://techcrunch.com/2010/09/08/kno-raises-46...</td>\n",
              "      <td>8958</td>\n",
              "      <td>{\"title\":\"Kno Raises 46 Million More To Build ...</td>\n",
              "      <td>computer_internet</td>\n",
              "      <td>0.651067</td>\n",
              "      <td>3.010526</td>\n",
              "      <td>0.474747</td>\n",
              "      <td>0.222222</td>\n",
              "      <td>0.191919</td>\n",
              "      <td>0.191919</td>\n",
              "      <td>0.474273</td>\n",
              "      <td>0.0</td>\n",
              "      <td>0</td>\n",
              "      <td>0.177043</td>\n",
              "      <td>0</td>\n",
              "      <td>0.256669</td>\n",
              "      <td>0.048780</td>\n",
              "      <td>1</td>\n",
              "      <td>1</td>\n",
              "      <td>38</td>\n",
              "      <td>0.000000</td>\n",
              "      <td>2219</td>\n",
              "      <td>99</td>\n",
              "      <td>11</td>\n",
              "      <td>0.040404</td>\n",
              "      <td>0.071429</td>\n",
              "      <td>0</td>\n",
              "    </tr>\n",
              "    <tr>\n",
              "      <th>7391</th>\n",
              "      <td>http://www.uncoached.com/category/why-i-miss-c...</td>\n",
              "      <td>8895</td>\n",
              "      <td>{\"title\":\"Why I Miss College \",\"body\":\"Mar 30 ...</td>\n",
              "      <td>culture_politics</td>\n",
              "      <td>0.141920</td>\n",
              "      <td>2.208054</td>\n",
              "      <td>0.483333</td>\n",
              "      <td>0.246667</td>\n",
              "      <td>0.036667</td>\n",
              "      <td>0.026667</td>\n",
              "      <td>0.558184</td>\n",
              "      <td>0.0</td>\n",
              "      <td>0</td>\n",
              "      <td>0.057377</td>\n",
              "      <td>0</td>\n",
              "      <td>0.218014</td>\n",
              "      <td>0.225962</td>\n",
              "      <td>1</td>\n",
              "      <td>1</td>\n",
              "      <td>34</td>\n",
              "      <td>0.000000</td>\n",
              "      <td>5672</td>\n",
              "      <td>300</td>\n",
              "      <td>4</td>\n",
              "      <td>0.020000</td>\n",
              "      <td>0.109453</td>\n",
              "      <td>0</td>\n",
              "    </tr>\n",
              "    <tr>\n",
              "      <th>7392</th>\n",
              "      <td>http://eatthis.menshealth.com/slide/sweet-pota...</td>\n",
              "      <td>1191</td>\n",
              "      <td>{\"title\":\"Sweet Potatoes Eat This Not That  i'...</td>\n",
              "      <td>recreation</td>\n",
              "      <td>0.196273</td>\n",
              "      <td>2.000000</td>\n",
              "      <td>0.315789</td>\n",
              "      <td>0.171053</td>\n",
              "      <td>0.105263</td>\n",
              "      <td>0.052632</td>\n",
              "      <td>0.692529</td>\n",
              "      <td>0.0</td>\n",
              "      <td>0</td>\n",
              "      <td>0.124122</td>\n",
              "      <td>0</td>\n",
              "      <td>0.248388</td>\n",
              "      <td>0.464286</td>\n",
              "      <td>1</td>\n",
              "      <td>1</td>\n",
              "      <td>43</td>\n",
              "      <td>0.000000</td>\n",
              "      <td>848</td>\n",
              "      <td>76</td>\n",
              "      <td>5</td>\n",
              "      <td>0.434211</td>\n",
              "      <td>0.117647</td>\n",
              "      <td>1</td>\n",
              "    </tr>\n",
              "    <tr>\n",
              "      <th>7393</th>\n",
              "      <td>http://naturallyella.com/</td>\n",
              "      <td>5612</td>\n",
              "      <td>{\"title\":\"Naturally Ella \",\"body\":\" \",\"url\":\"n...</td>\n",
              "      <td>arts_entertainment</td>\n",
              "      <td>0.617876</td>\n",
              "      <td>1.026316</td>\n",
              "      <td>0.210526</td>\n",
              "      <td>0.052632</td>\n",
              "      <td>0.000000</td>\n",
              "      <td>0.000000</td>\n",
              "      <td>21.000000</td>\n",
              "      <td>-1.0</td>\n",
              "      <td>0</td>\n",
              "      <td>0.097778</td>\n",
              "      <td>0</td>\n",
              "      <td>0.256070</td>\n",
              "      <td>-1.000000</td>\n",
              "      <td>1</td>\n",
              "      <td>0</td>\n",
              "      <td>37</td>\n",
              "      <td>1.000000</td>\n",
              "      <td>386</td>\n",
              "      <td>38</td>\n",
              "      <td>0</td>\n",
              "      <td>0.026316</td>\n",
              "      <td>0.333333</td>\n",
              "      <td>1</td>\n",
              "    </tr>\n",
              "    <tr>\n",
              "      <th>7394</th>\n",
              "      <td>http://sportsillustrated.cnn.com/2011_swimsuit...</td>\n",
              "      <td>90</td>\n",
              "      <td>{\"title\":\"Esti Ginzburg Swimsuit by Letarte by...</td>\n",
              "      <td>Unknown Category</td>\n",
              "      <td>0.603334</td>\n",
              "      <td>1.158209</td>\n",
              "      <td>0.505917</td>\n",
              "      <td>0.428994</td>\n",
              "      <td>0.023669</td>\n",
              "      <td>0.000000</td>\n",
              "      <td>0.434146</td>\n",
              "      <td>0.0</td>\n",
              "      <td>0</td>\n",
              "      <td>0.028451</td>\n",
              "      <td>0</td>\n",
              "      <td>0.137454</td>\n",
              "      <td>1.069231</td>\n",
              "      <td>1</td>\n",
              "      <td>0</td>\n",
              "      <td>78</td>\n",
              "      <td>0.047828</td>\n",
              "      <td>515</td>\n",
              "      <td>338</td>\n",
              "      <td>4</td>\n",
              "      <td>0.005917</td>\n",
              "      <td>0.134146</td>\n",
              "      <td>0</td>\n",
              "    </tr>\n",
              "  </tbody>\n",
              "</table>\n",
              "</div>"
            ],
            "text/plain": [
              "                                                    url  ...  label\n",
              "7390  http://techcrunch.com/2010/09/08/kno-raises-46...  ...      0\n",
              "7391  http://www.uncoached.com/category/why-i-miss-c...  ...      0\n",
              "7392  http://eatthis.menshealth.com/slide/sweet-pota...  ...      1\n",
              "7393                          http://naturallyella.com/  ...      1\n",
              "7394  http://sportsillustrated.cnn.com/2011_swimsuit...  ...      0\n",
              "\n",
              "[5 rows x 27 columns]"
            ]
          },
          "metadata": {
            "tags": []
          },
          "execution_count": 13
        }
      ]
    },
    {
      "cell_type": "code",
      "metadata": {
        "id": "EaMcGnDt-fzv"
      },
      "source": [
        "from sklearn.preprocessing import LabelEncoder"
      ],
      "execution_count": 14,
      "outputs": []
    },
    {
      "cell_type": "code",
      "metadata": {
        "id": "ZSk06GOhAIQg"
      },
      "source": [
        "df['url'] = LabelEncoder().fit_transform(df['url'])\r\n",
        "df['boilerplate'] = LabelEncoder().fit_transform(df['boilerplate'])\r\n",
        "df['alchemy_category'] = LabelEncoder().fit_transform(df['alchemy_category'])"
      ],
      "execution_count": 15,
      "outputs": []
    },
    {
      "cell_type": "code",
      "metadata": {
        "colab": {
          "base_uri": "https://localhost:8080/",
          "height": 222
        },
        "id": "feXbX0leAITg",
        "outputId": "7259fa55-908a-483f-a3aa-45a638f0808b"
      },
      "source": [
        "df.head()"
      ],
      "execution_count": 16,
      "outputs": [
        {
          "output_type": "execute_result",
          "data": {
            "text/html": [
              "<div>\n",
              "<style scoped>\n",
              "    .dataframe tbody tr th:only-of-type {\n",
              "        vertical-align: middle;\n",
              "    }\n",
              "\n",
              "    .dataframe tbody tr th {\n",
              "        vertical-align: top;\n",
              "    }\n",
              "\n",
              "    .dataframe thead th {\n",
              "        text-align: right;\n",
              "    }\n",
              "</style>\n",
              "<table border=\"1\" class=\"dataframe\">\n",
              "  <thead>\n",
              "    <tr style=\"text-align: right;\">\n",
              "      <th></th>\n",
              "      <th>url</th>\n",
              "      <th>urlid</th>\n",
              "      <th>boilerplate</th>\n",
              "      <th>alchemy_category</th>\n",
              "      <th>alchemy_category_score</th>\n",
              "      <th>avglinksize</th>\n",
              "      <th>commonlinkratio_1</th>\n",
              "      <th>commonlinkratio_2</th>\n",
              "      <th>commonlinkratio_3</th>\n",
              "      <th>commonlinkratio_4</th>\n",
              "      <th>compression_ratio</th>\n",
              "      <th>embed_ratio</th>\n",
              "      <th>framebased</th>\n",
              "      <th>frameTagRatio</th>\n",
              "      <th>hasDomainLink</th>\n",
              "      <th>html_ratio</th>\n",
              "      <th>image_ratio</th>\n",
              "      <th>is_news</th>\n",
              "      <th>lengthyLinkDomain</th>\n",
              "      <th>linkwordscore</th>\n",
              "      <th>news_front_page</th>\n",
              "      <th>non_markup_alphanum_characters</th>\n",
              "      <th>numberOfLinks</th>\n",
              "      <th>numwords_in_url</th>\n",
              "      <th>parametrizedLinkRatio</th>\n",
              "      <th>spelling_errors_ratio</th>\n",
              "      <th>label</th>\n",
              "    </tr>\n",
              "  </thead>\n",
              "  <tbody>\n",
              "    <tr>\n",
              "      <th>0</th>\n",
              "      <td>3097</td>\n",
              "      <td>4042</td>\n",
              "      <td>2993</td>\n",
              "      <td>2</td>\n",
              "      <td>0.789131</td>\n",
              "      <td>2.055556</td>\n",
              "      <td>0.676471</td>\n",
              "      <td>0.205882</td>\n",
              "      <td>0.047059</td>\n",
              "      <td>0.023529</td>\n",
              "      <td>0.443783</td>\n",
              "      <td>0.0</td>\n",
              "      <td>0</td>\n",
              "      <td>0.090774</td>\n",
              "      <td>0</td>\n",
              "      <td>0.245831</td>\n",
              "      <td>0.003883</td>\n",
              "      <td>1</td>\n",
              "      <td>1</td>\n",
              "      <td>24</td>\n",
              "      <td>0.0</td>\n",
              "      <td>5424</td>\n",
              "      <td>170</td>\n",
              "      <td>8</td>\n",
              "      <td>0.152941</td>\n",
              "      <td>0.079130</td>\n",
              "      <td>0</td>\n",
              "    </tr>\n",
              "    <tr>\n",
              "      <th>1</th>\n",
              "      <td>5938</td>\n",
              "      <td>8471</td>\n",
              "      <td>5050</td>\n",
              "      <td>8</td>\n",
              "      <td>0.574147</td>\n",
              "      <td>3.677966</td>\n",
              "      <td>0.508021</td>\n",
              "      <td>0.288770</td>\n",
              "      <td>0.213904</td>\n",
              "      <td>0.144385</td>\n",
              "      <td>0.468649</td>\n",
              "      <td>0.0</td>\n",
              "      <td>0</td>\n",
              "      <td>0.098707</td>\n",
              "      <td>0</td>\n",
              "      <td>0.203490</td>\n",
              "      <td>0.088652</td>\n",
              "      <td>1</td>\n",
              "      <td>1</td>\n",
              "      <td>40</td>\n",
              "      <td>0.0</td>\n",
              "      <td>4973</td>\n",
              "      <td>187</td>\n",
              "      <td>9</td>\n",
              "      <td>0.181818</td>\n",
              "      <td>0.125448</td>\n",
              "      <td>1</td>\n",
              "    </tr>\n",
              "    <tr>\n",
              "      <th>2</th>\n",
              "      <td>5327</td>\n",
              "      <td>1164</td>\n",
              "      <td>2447</td>\n",
              "      <td>6</td>\n",
              "      <td>0.996526</td>\n",
              "      <td>2.382883</td>\n",
              "      <td>0.562016</td>\n",
              "      <td>0.321705</td>\n",
              "      <td>0.120155</td>\n",
              "      <td>0.042636</td>\n",
              "      <td>0.525448</td>\n",
              "      <td>0.0</td>\n",
              "      <td>0</td>\n",
              "      <td>0.072448</td>\n",
              "      <td>0</td>\n",
              "      <td>0.226402</td>\n",
              "      <td>0.120536</td>\n",
              "      <td>1</td>\n",
              "      <td>1</td>\n",
              "      <td>55</td>\n",
              "      <td>0.0</td>\n",
              "      <td>2240</td>\n",
              "      <td>258</td>\n",
              "      <td>11</td>\n",
              "      <td>0.166667</td>\n",
              "      <td>0.057613</td>\n",
              "      <td>1</td>\n",
              "    </tr>\n",
              "    <tr>\n",
              "      <th>3</th>\n",
              "      <td>3674</td>\n",
              "      <td>6684</td>\n",
              "      <td>411</td>\n",
              "      <td>6</td>\n",
              "      <td>0.801248</td>\n",
              "      <td>1.543103</td>\n",
              "      <td>0.400000</td>\n",
              "      <td>0.100000</td>\n",
              "      <td>0.016667</td>\n",
              "      <td>0.000000</td>\n",
              "      <td>0.480725</td>\n",
              "      <td>0.0</td>\n",
              "      <td>0</td>\n",
              "      <td>0.095861</td>\n",
              "      <td>0</td>\n",
              "      <td>0.265656</td>\n",
              "      <td>0.035343</td>\n",
              "      <td>1</td>\n",
              "      <td>0</td>\n",
              "      <td>24</td>\n",
              "      <td>0.0</td>\n",
              "      <td>2737</td>\n",
              "      <td>120</td>\n",
              "      <td>5</td>\n",
              "      <td>0.041667</td>\n",
              "      <td>0.100858</td>\n",
              "      <td>1</td>\n",
              "    </tr>\n",
              "    <tr>\n",
              "      <th>4</th>\n",
              "      <td>359</td>\n",
              "      <td>9006</td>\n",
              "      <td>4955</td>\n",
              "      <td>11</td>\n",
              "      <td>0.719157</td>\n",
              "      <td>2.676471</td>\n",
              "      <td>0.500000</td>\n",
              "      <td>0.222222</td>\n",
              "      <td>0.123457</td>\n",
              "      <td>0.043210</td>\n",
              "      <td>0.446143</td>\n",
              "      <td>0.0</td>\n",
              "      <td>0</td>\n",
              "      <td>0.024908</td>\n",
              "      <td>0</td>\n",
              "      <td>0.228887</td>\n",
              "      <td>0.050473</td>\n",
              "      <td>1</td>\n",
              "      <td>1</td>\n",
              "      <td>14</td>\n",
              "      <td>0.0</td>\n",
              "      <td>12032</td>\n",
              "      <td>162</td>\n",
              "      <td>10</td>\n",
              "      <td>0.098765</td>\n",
              "      <td>0.082569</td>\n",
              "      <td>0</td>\n",
              "    </tr>\n",
              "  </tbody>\n",
              "</table>\n",
              "</div>"
            ],
            "text/plain": [
              "    url  urlid  ...  spelling_errors_ratio  label\n",
              "0  3097   4042  ...               0.079130      0\n",
              "1  5938   8471  ...               0.125448      1\n",
              "2  5327   1164  ...               0.057613      1\n",
              "3  3674   6684  ...               0.100858      1\n",
              "4   359   9006  ...               0.082569      0\n",
              "\n",
              "[5 rows x 27 columns]"
            ]
          },
          "metadata": {
            "tags": []
          },
          "execution_count": 16
        }
      ]
    },
    {
      "cell_type": "code",
      "metadata": {
        "colab": {
          "base_uri": "https://localhost:8080/",
          "height": 222
        },
        "id": "otRZw5ebQTUI",
        "outputId": "a6fe7ac5-7fc8-4d6a-b96b-cf3fe70d6880"
      },
      "source": [
        "df.tail()"
      ],
      "execution_count": 17,
      "outputs": [
        {
          "output_type": "execute_result",
          "data": {
            "text/html": [
              "<div>\n",
              "<style scoped>\n",
              "    .dataframe tbody tr th:only-of-type {\n",
              "        vertical-align: middle;\n",
              "    }\n",
              "\n",
              "    .dataframe tbody tr th {\n",
              "        vertical-align: top;\n",
              "    }\n",
              "\n",
              "    .dataframe thead th {\n",
              "        text-align: right;\n",
              "    }\n",
              "</style>\n",
              "<table border=\"1\" class=\"dataframe\">\n",
              "  <thead>\n",
              "    <tr style=\"text-align: right;\">\n",
              "      <th></th>\n",
              "      <th>url</th>\n",
              "      <th>urlid</th>\n",
              "      <th>boilerplate</th>\n",
              "      <th>alchemy_category</th>\n",
              "      <th>alchemy_category_score</th>\n",
              "      <th>avglinksize</th>\n",
              "      <th>commonlinkratio_1</th>\n",
              "      <th>commonlinkratio_2</th>\n",
              "      <th>commonlinkratio_3</th>\n",
              "      <th>commonlinkratio_4</th>\n",
              "      <th>compression_ratio</th>\n",
              "      <th>embed_ratio</th>\n",
              "      <th>framebased</th>\n",
              "      <th>frameTagRatio</th>\n",
              "      <th>hasDomainLink</th>\n",
              "      <th>html_ratio</th>\n",
              "      <th>image_ratio</th>\n",
              "      <th>is_news</th>\n",
              "      <th>lengthyLinkDomain</th>\n",
              "      <th>linkwordscore</th>\n",
              "      <th>news_front_page</th>\n",
              "      <th>non_markup_alphanum_characters</th>\n",
              "      <th>numberOfLinks</th>\n",
              "      <th>numwords_in_url</th>\n",
              "      <th>parametrizedLinkRatio</th>\n",
              "      <th>spelling_errors_ratio</th>\n",
              "      <th>label</th>\n",
              "    </tr>\n",
              "  </thead>\n",
              "  <tbody>\n",
              "    <tr>\n",
              "      <th>7390</th>\n",
              "      <td>2364</td>\n",
              "      <td>8958</td>\n",
              "      <td>3214</td>\n",
              "      <td>3</td>\n",
              "      <td>0.651067</td>\n",
              "      <td>3.010526</td>\n",
              "      <td>0.474747</td>\n",
              "      <td>0.222222</td>\n",
              "      <td>0.191919</td>\n",
              "      <td>0.191919</td>\n",
              "      <td>0.474273</td>\n",
              "      <td>0.0</td>\n",
              "      <td>0</td>\n",
              "      <td>0.177043</td>\n",
              "      <td>0</td>\n",
              "      <td>0.256669</td>\n",
              "      <td>0.048780</td>\n",
              "      <td>1</td>\n",
              "      <td>1</td>\n",
              "      <td>38</td>\n",
              "      <td>0.000000</td>\n",
              "      <td>2219</td>\n",
              "      <td>99</td>\n",
              "      <td>11</td>\n",
              "      <td>0.040404</td>\n",
              "      <td>0.071429</td>\n",
              "      <td>0</td>\n",
              "    </tr>\n",
              "    <tr>\n",
              "      <th>7391</th>\n",
              "      <td>6878</td>\n",
              "      <td>8895</td>\n",
              "      <td>5661</td>\n",
              "      <td>4</td>\n",
              "      <td>0.141920</td>\n",
              "      <td>2.208054</td>\n",
              "      <td>0.483333</td>\n",
              "      <td>0.246667</td>\n",
              "      <td>0.036667</td>\n",
              "      <td>0.026667</td>\n",
              "      <td>0.558184</td>\n",
              "      <td>0.0</td>\n",
              "      <td>0</td>\n",
              "      <td>0.057377</td>\n",
              "      <td>0</td>\n",
              "      <td>0.218014</td>\n",
              "      <td>0.225962</td>\n",
              "      <td>1</td>\n",
              "      <td>1</td>\n",
              "      <td>34</td>\n",
              "      <td>0.000000</td>\n",
              "      <td>5672</td>\n",
              "      <td>300</td>\n",
              "      <td>4</td>\n",
              "      <td>0.020000</td>\n",
              "      <td>0.109453</td>\n",
              "      <td>0</td>\n",
              "    </tr>\n",
              "    <tr>\n",
              "      <th>7392</th>\n",
              "      <td>849</td>\n",
              "      <td>1191</td>\n",
              "      <td>4810</td>\n",
              "      <td>8</td>\n",
              "      <td>0.196273</td>\n",
              "      <td>2.000000</td>\n",
              "      <td>0.315789</td>\n",
              "      <td>0.171053</td>\n",
              "      <td>0.105263</td>\n",
              "      <td>0.052632</td>\n",
              "      <td>0.692529</td>\n",
              "      <td>0.0</td>\n",
              "      <td>0</td>\n",
              "      <td>0.124122</td>\n",
              "      <td>0</td>\n",
              "      <td>0.248388</td>\n",
              "      <td>0.464286</td>\n",
              "      <td>1</td>\n",
              "      <td>1</td>\n",
              "      <td>43</td>\n",
              "      <td>0.000000</td>\n",
              "      <td>848</td>\n",
              "      <td>76</td>\n",
              "      <td>5</td>\n",
              "      <td>0.434211</td>\n",
              "      <td>0.117647</td>\n",
              "      <td>1</td>\n",
              "    </tr>\n",
              "    <tr>\n",
              "      <th>7393</th>\n",
              "      <td>1666</td>\n",
              "      <td>5612</td>\n",
              "      <td>3658</td>\n",
              "      <td>1</td>\n",
              "      <td>0.617876</td>\n",
              "      <td>1.026316</td>\n",
              "      <td>0.210526</td>\n",
              "      <td>0.052632</td>\n",
              "      <td>0.000000</td>\n",
              "      <td>0.000000</td>\n",
              "      <td>21.000000</td>\n",
              "      <td>-1.0</td>\n",
              "      <td>0</td>\n",
              "      <td>0.097778</td>\n",
              "      <td>0</td>\n",
              "      <td>0.256070</td>\n",
              "      <td>-1.000000</td>\n",
              "      <td>1</td>\n",
              "      <td>0</td>\n",
              "      <td>37</td>\n",
              "      <td>1.000000</td>\n",
              "      <td>386</td>\n",
              "      <td>38</td>\n",
              "      <td>0</td>\n",
              "      <td>0.026316</td>\n",
              "      <td>0.333333</td>\n",
              "      <td>1</td>\n",
              "    </tr>\n",
              "    <tr>\n",
              "      <th>7394</th>\n",
              "      <td>2160</td>\n",
              "      <td>90</td>\n",
              "      <td>2191</td>\n",
              "      <td>0</td>\n",
              "      <td>0.603334</td>\n",
              "      <td>1.158209</td>\n",
              "      <td>0.505917</td>\n",
              "      <td>0.428994</td>\n",
              "      <td>0.023669</td>\n",
              "      <td>0.000000</td>\n",
              "      <td>0.434146</td>\n",
              "      <td>0.0</td>\n",
              "      <td>0</td>\n",
              "      <td>0.028451</td>\n",
              "      <td>0</td>\n",
              "      <td>0.137454</td>\n",
              "      <td>1.069231</td>\n",
              "      <td>1</td>\n",
              "      <td>0</td>\n",
              "      <td>78</td>\n",
              "      <td>0.047828</td>\n",
              "      <td>515</td>\n",
              "      <td>338</td>\n",
              "      <td>4</td>\n",
              "      <td>0.005917</td>\n",
              "      <td>0.134146</td>\n",
              "      <td>0</td>\n",
              "    </tr>\n",
              "  </tbody>\n",
              "</table>\n",
              "</div>"
            ],
            "text/plain": [
              "       url  urlid  ...  spelling_errors_ratio  label\n",
              "7390  2364   8958  ...               0.071429      0\n",
              "7391  6878   8895  ...               0.109453      0\n",
              "7392   849   1191  ...               0.117647      1\n",
              "7393  1666   5612  ...               0.333333      1\n",
              "7394  2160     90  ...               0.134146      0\n",
              "\n",
              "[5 rows x 27 columns]"
            ]
          },
          "metadata": {
            "tags": []
          },
          "execution_count": 17
        }
      ]
    },
    {
      "cell_type": "code",
      "metadata": {
        "colab": {
          "base_uri": "https://localhost:8080/"
        },
        "id": "85mNkCLjXZ97",
        "outputId": "deee25f1-0484-43a5-9e94-06a8ec82fcd3"
      },
      "source": [
        "df['label'].value_counts()"
      ],
      "execution_count": 18,
      "outputs": [
        {
          "output_type": "execute_result",
          "data": {
            "text/plain": [
              "1    3796\n",
              "0    3599\n",
              "Name: label, dtype: int64"
            ]
          },
          "metadata": {
            "tags": []
          },
          "execution_count": 18
        }
      ]
    },
    {
      "cell_type": "code",
      "metadata": {
        "id": "pQxqB-1HwEBF"
      },
      "source": [
        "from sklearn.preprocessing import StandardScaler"
      ],
      "execution_count": 19,
      "outputs": []
    },
    {
      "cell_type": "code",
      "metadata": {
        "id": "orpZCrYDgpJ4"
      },
      "source": [
        "x = df.iloc[:,:-1]\r\n",
        "y = df['label']"
      ],
      "execution_count": 20,
      "outputs": []
    },
    {
      "cell_type": "code",
      "metadata": {
        "id": "H5e4kRagwJQu"
      },
      "source": [
        "x = StandardScaler().fit_transform(x)"
      ],
      "execution_count": 21,
      "outputs": []
    },
    {
      "cell_type": "code",
      "metadata": {
        "colab": {
          "base_uri": "https://localhost:8080/"
        },
        "id": "b6a-_zDzCpjJ",
        "outputId": "3ff1ffdb-9359-4709-8190-50fdd545ff83"
      },
      "source": [
        "x"
      ],
      "execution_count": 22,
      "outputs": [
        {
          "output_type": "execute_result",
          "data": {
            "text/plain": [
              "array([[-0.28106301, -0.41457706, -0.32952424, ...,  0.94013354,\n",
              "        -0.10870584, -0.27883964],\n",
              "       [ 1.04977036,  1.03842208,  0.63422556, ...,  1.24945404,\n",
              "         0.04885672,  0.3058009 ],\n",
              "       [ 0.76355452, -1.35874764, -0.58533727, ...,  1.86809504,\n",
              "        -0.03381499, -0.5504239 ],\n",
              "       ...,\n",
              "       [-1.33411244, -1.34988989,  0.52178028, ...,  0.01217204,\n",
              "         1.42599342,  0.20733554],\n",
              "       [-0.9513983 ,  0.10048473, -0.0179571 , ..., -1.53443045,\n",
              "        -0.79961612,  2.92976964],\n",
              "       [-0.71998975, -1.71108927, -0.70527891, ..., -0.29714846,\n",
              "        -0.91091784,  0.41559268]])"
            ]
          },
          "metadata": {
            "tags": []
          },
          "execution_count": 22
        }
      ]
    },
    {
      "cell_type": "code",
      "metadata": {
        "colab": {
          "base_uri": "https://localhost:8080/"
        },
        "id": "02TOuBzADGIg",
        "outputId": "32ab612d-c206-42e4-d76b-a8b132764e28"
      },
      "source": [
        "y"
      ],
      "execution_count": 23,
      "outputs": [
        {
          "output_type": "execute_result",
          "data": {
            "text/plain": [
              "0       0\n",
              "1       1\n",
              "2       1\n",
              "3       1\n",
              "4       0\n",
              "       ..\n",
              "7390    0\n",
              "7391    0\n",
              "7392    1\n",
              "7393    1\n",
              "7394    0\n",
              "Name: label, Length: 7395, dtype: int64"
            ]
          },
          "metadata": {
            "tags": []
          },
          "execution_count": 23
        }
      ]
    },
    {
      "cell_type": "code",
      "metadata": {
        "id": "2PhC4pgEwo81"
      },
      "source": [
        "from sklearn.model_selection import train_test_split"
      ],
      "execution_count": 24,
      "outputs": []
    },
    {
      "cell_type": "code",
      "metadata": {
        "id": "-DETjXRVxKDK"
      },
      "source": [
        "(x_train, x_val, y_train, y_val) = train_test_split(x, y, test_size = 0.2, random_state=42)"
      ],
      "execution_count": 25,
      "outputs": []
    },
    {
      "cell_type": "code",
      "metadata": {
        "colab": {
          "base_uri": "https://localhost:8080/"
        },
        "id": "BR7a-PG4BWV6",
        "outputId": "1f3d6a2a-3707-418a-99bd-4af130eb04e2"
      },
      "source": [
        "x_train"
      ],
      "execution_count": 26,
      "outputs": [
        {
          "output_type": "execute_result",
          "data": {
            "text/plain": [
              "array([[-0.12413616, -0.74165769, -0.88472284, ..., -0.60646896,\n",
              "        -0.6951887 ,  0.17431103],\n",
              "       [ 1.23620882,  1.25297648,  0.45384458, ...,  0.01217204,\n",
              "         0.38760911,  0.01458883],\n",
              "       [ 0.63613929,  0.58274003, -1.55049264, ..., -1.53443045,\n",
              "         0.6041145 ,  2.27236368],\n",
              "       ...,\n",
              "       [ 0.53167753,  0.47972767,  1.42602779, ..., -0.60646896,\n",
              "        -0.48850941, -0.40627387],\n",
              "       [-0.22485041, -0.75478029,  1.20020017, ..., -0.60646896,\n",
              "         2.02126059, -0.41897583],\n",
              "       [-0.2173554 ,  0.09097085,  1.20347982, ...,  0.63081304,\n",
              "        -0.45311404,  0.11422427]])"
            ]
          },
          "metadata": {
            "tags": []
          },
          "execution_count": 26
        }
      ]
    },
    {
      "cell_type": "code",
      "metadata": {
        "colab": {
          "base_uri": "https://localhost:8080/"
        },
        "id": "ckUa0nJhTSph",
        "outputId": "bcfadea5-9b6f-4e72-e414-76e7f35c9107"
      },
      "source": [
        "x_train.shape"
      ],
      "execution_count": 27,
      "outputs": [
        {
          "output_type": "execute_result",
          "data": {
            "text/plain": [
              "(5916, 26)"
            ]
          },
          "metadata": {
            "tags": []
          },
          "execution_count": 27
        }
      ]
    },
    {
      "cell_type": "code",
      "metadata": {
        "colab": {
          "base_uri": "https://localhost:8080/"
        },
        "id": "A-ONIH0-Bbzn",
        "outputId": "0d08e87d-4c28-419f-bf02-1fddae458736"
      },
      "source": [
        "x_val"
      ],
      "execution_count": 28,
      "outputs": [
        {
          "output_type": "execute_result",
          "data": {
            "text/plain": [
              "array([[-0.79072395, -0.76298191, -0.92970096, ..., -0.91578945,\n",
              "        -0.01163478,  0.00558903],\n",
              "       [ 1.17812247,  1.70931466, -0.23628836, ..., -0.29714846,\n",
              "         1.1068635 , -0.27232099],\n",
              "       [-0.84927874,  1.22541903,  0.19522042, ..., -1.53443045,\n",
              "        -0.55559548, -0.42246629],\n",
              "       ...,\n",
              "       [-0.98746806,  0.58175583,  1.49583757, ...,  1.55877454,\n",
              "        -0.94320383, -0.32730886],\n",
              "       [ 1.70183655, -0.17804231, -1.14850074, ...,  0.01217204,\n",
              "        -0.86354934,  0.12483753],\n",
              "       [-1.01416904, -0.07043705, -1.61842833, ...,  0.94013354,\n",
              "         2.07213812, -1.27762852]])"
            ]
          },
          "metadata": {
            "tags": []
          },
          "execution_count": 28
        }
      ]
    },
    {
      "cell_type": "code",
      "metadata": {
        "colab": {
          "base_uri": "https://localhost:8080/"
        },
        "id": "RJIWC9uTS9kn",
        "outputId": "46335b2a-4b41-414b-e963-110fe76121df"
      },
      "source": [
        "x_val.shape"
      ],
      "execution_count": 29,
      "outputs": [
        {
          "output_type": "execute_result",
          "data": {
            "text/plain": [
              "(1479, 26)"
            ]
          },
          "metadata": {
            "tags": []
          },
          "execution_count": 29
        }
      ]
    },
    {
      "cell_type": "code",
      "metadata": {
        "colab": {
          "base_uri": "https://localhost:8080/"
        },
        "id": "qy-MR1pGBdlu",
        "outputId": "02920ad7-3d2a-41f7-d010-90091d139da2"
      },
      "source": [
        "y_train"
      ],
      "execution_count": 30,
      "outputs": [
        {
          "output_type": "execute_result",
          "data": {
            "text/plain": [
              "4189    0\n",
              "5144    1\n",
              "3914    0\n",
              "3918    0\n",
              "2318    0\n",
              "       ..\n",
              "5191    0\n",
              "5226    0\n",
              "5390    1\n",
              "860     1\n",
              "7270    0\n",
              "Name: label, Length: 5916, dtype: int64"
            ]
          },
          "metadata": {
            "tags": []
          },
          "execution_count": 30
        }
      ]
    },
    {
      "cell_type": "code",
      "metadata": {
        "colab": {
          "base_uri": "https://localhost:8080/"
        },
        "id": "7wTtn3x4TQLq",
        "outputId": "b0b5a24d-16fe-442c-f056-5776f8e2b670"
      },
      "source": [
        "y_train.shape"
      ],
      "execution_count": 31,
      "outputs": [
        {
          "output_type": "execute_result",
          "data": {
            "text/plain": [
              "(5916,)"
            ]
          },
          "metadata": {
            "tags": []
          },
          "execution_count": 31
        }
      ]
    },
    {
      "cell_type": "code",
      "metadata": {
        "colab": {
          "base_uri": "https://localhost:8080/"
        },
        "id": "sAPtZm4KBdwh",
        "outputId": "ffd54736-1b4f-40db-e47d-27aca800a687"
      },
      "source": [
        "y_val"
      ],
      "execution_count": 32,
      "outputs": [
        {
          "output_type": "execute_result",
          "data": {
            "text/plain": [
              "2759    1\n",
              "2846    1\n",
              "6681    1\n",
              "3262    1\n",
              "486     0\n",
              "       ..\n",
              "7391    0\n",
              "6302    1\n",
              "110     1\n",
              "51      1\n",
              "1109    1\n",
              "Name: label, Length: 1479, dtype: int64"
            ]
          },
          "metadata": {
            "tags": []
          },
          "execution_count": 32
        }
      ]
    },
    {
      "cell_type": "code",
      "metadata": {
        "colab": {
          "base_uri": "https://localhost:8080/"
        },
        "id": "PDKhtmCFS6mU",
        "outputId": "bf46807c-058a-4bf8-827e-985c15917813"
      },
      "source": [
        "y_val.shape"
      ],
      "execution_count": 33,
      "outputs": [
        {
          "output_type": "execute_result",
          "data": {
            "text/plain": [
              "(1479,)"
            ]
          },
          "metadata": {
            "tags": []
          },
          "execution_count": 33
        }
      ]
    },
    {
      "cell_type": "markdown",
      "metadata": {
        "id": "d9sNd0zJRtnD"
      },
      "source": [
        "Test File"
      ]
    },
    {
      "cell_type": "code",
      "metadata": {
        "id": "HiDbO5nMQXSa"
      },
      "source": [
        "df_test = pd.read_csv('/content/drive/MyDrive/Stylumia/test.tsv',sep='\\t')"
      ],
      "execution_count": 34,
      "outputs": []
    },
    {
      "cell_type": "code",
      "metadata": {
        "colab": {
          "base_uri": "https://localhost:8080/",
          "height": 395
        },
        "id": "ctKuen_mQXU_",
        "outputId": "cf304998-9f1b-49bd-d89c-25497a548338"
      },
      "source": [
        "df_test.head()"
      ],
      "execution_count": 35,
      "outputs": [
        {
          "output_type": "execute_result",
          "data": {
            "text/html": [
              "<div>\n",
              "<style scoped>\n",
              "    .dataframe tbody tr th:only-of-type {\n",
              "        vertical-align: middle;\n",
              "    }\n",
              "\n",
              "    .dataframe tbody tr th {\n",
              "        vertical-align: top;\n",
              "    }\n",
              "\n",
              "    .dataframe thead th {\n",
              "        text-align: right;\n",
              "    }\n",
              "</style>\n",
              "<table border=\"1\" class=\"dataframe\">\n",
              "  <thead>\n",
              "    <tr style=\"text-align: right;\">\n",
              "      <th></th>\n",
              "      <th>url</th>\n",
              "      <th>urlid</th>\n",
              "      <th>boilerplate</th>\n",
              "      <th>alchemy_category</th>\n",
              "      <th>alchemy_category_score</th>\n",
              "      <th>avglinksize</th>\n",
              "      <th>commonlinkratio_1</th>\n",
              "      <th>commonlinkratio_2</th>\n",
              "      <th>commonlinkratio_3</th>\n",
              "      <th>commonlinkratio_4</th>\n",
              "      <th>compression_ratio</th>\n",
              "      <th>embed_ratio</th>\n",
              "      <th>framebased</th>\n",
              "      <th>frameTagRatio</th>\n",
              "      <th>hasDomainLink</th>\n",
              "      <th>html_ratio</th>\n",
              "      <th>image_ratio</th>\n",
              "      <th>is_news</th>\n",
              "      <th>lengthyLinkDomain</th>\n",
              "      <th>linkwordscore</th>\n",
              "      <th>news_front_page</th>\n",
              "      <th>non_markup_alphanum_characters</th>\n",
              "      <th>numberOfLinks</th>\n",
              "      <th>numwords_in_url</th>\n",
              "      <th>parametrizedLinkRatio</th>\n",
              "      <th>spelling_errors_ratio</th>\n",
              "    </tr>\n",
              "  </thead>\n",
              "  <tbody>\n",
              "    <tr>\n",
              "      <th>0</th>\n",
              "      <td>http://www.lynnskitchenadventures.com/2009/04/...</td>\n",
              "      <td>5865</td>\n",
              "      <td>{\"title\":\"Homemade Enchilada Sauce Lynn s Kitc...</td>\n",
              "      <td>recreation</td>\n",
              "      <td>0.443906</td>\n",
              "      <td>2.558140</td>\n",
              "      <td>0.389706</td>\n",
              "      <td>0.257353</td>\n",
              "      <td>0.044118</td>\n",
              "      <td>0.022059</td>\n",
              "      <td>0.489572</td>\n",
              "      <td>0.0</td>\n",
              "      <td>0</td>\n",
              "      <td>0.067143</td>\n",
              "      <td>0</td>\n",
              "      <td>0.230285</td>\n",
              "      <td>0.199438</td>\n",
              "      <td>1</td>\n",
              "      <td>1</td>\n",
              "      <td>15</td>\n",
              "      <td>0</td>\n",
              "      <td>5643</td>\n",
              "      <td>136</td>\n",
              "      <td>3</td>\n",
              "      <td>0.242647</td>\n",
              "      <td>0.080597</td>\n",
              "    </tr>\n",
              "    <tr>\n",
              "      <th>1</th>\n",
              "      <td>http://lolpics.se/18552-stun-grenade-ar</td>\n",
              "      <td>782</td>\n",
              "      <td>{\"title\":\"lolpics Stun grenade ar \",\"body\":\" f...</td>\n",
              "      <td>culture_politics</td>\n",
              "      <td>0.135844</td>\n",
              "      <td>3.771429</td>\n",
              "      <td>0.461538</td>\n",
              "      <td>0.205128</td>\n",
              "      <td>0.051282</td>\n",
              "      <td>0.000000</td>\n",
              "      <td>0.782051</td>\n",
              "      <td>0.0</td>\n",
              "      <td>0</td>\n",
              "      <td>0.042857</td>\n",
              "      <td>0</td>\n",
              "      <td>0.365962</td>\n",
              "      <td>0.080000</td>\n",
              "      <td>?</td>\n",
              "      <td>1</td>\n",
              "      <td>62</td>\n",
              "      <td>0</td>\n",
              "      <td>382</td>\n",
              "      <td>39</td>\n",
              "      <td>2</td>\n",
              "      <td>0.128205</td>\n",
              "      <td>0.176471</td>\n",
              "    </tr>\n",
              "    <tr>\n",
              "      <th>2</th>\n",
              "      <td>http://www.xcelerationfitness.com/treadmills.html</td>\n",
              "      <td>6962</td>\n",
              "      <td>{\"title\":\"Treadmills \",\"body\":\" treadmills, st...</td>\n",
              "      <td>?</td>\n",
              "      <td>?</td>\n",
              "      <td>2.269565</td>\n",
              "      <td>0.495726</td>\n",
              "      <td>0.384615</td>\n",
              "      <td>0.170940</td>\n",
              "      <td>0.170940</td>\n",
              "      <td>1.250000</td>\n",
              "      <td>0.0</td>\n",
              "      <td>0</td>\n",
              "      <td>0.058824</td>\n",
              "      <td>0</td>\n",
              "      <td>0.161901</td>\n",
              "      <td>10.000000</td>\n",
              "      <td>?</td>\n",
              "      <td>1</td>\n",
              "      <td>42</td>\n",
              "      <td>0</td>\n",
              "      <td>2420</td>\n",
              "      <td>117</td>\n",
              "      <td>1</td>\n",
              "      <td>0.581197</td>\n",
              "      <td>0.125000</td>\n",
              "    </tr>\n",
              "    <tr>\n",
              "      <th>3</th>\n",
              "      <td>http://www.bloomberg.com/news/2012-02-06/syria...</td>\n",
              "      <td>7640</td>\n",
              "      <td>{\"title\":\"Father s Tactics Used by Assad to Cr...</td>\n",
              "      <td>culture_politics</td>\n",
              "      <td>0.90259</td>\n",
              "      <td>2.523490</td>\n",
              "      <td>0.705502</td>\n",
              "      <td>0.346278</td>\n",
              "      <td>0.122977</td>\n",
              "      <td>0.090615</td>\n",
              "      <td>0.449366</td>\n",
              "      <td>0.0</td>\n",
              "      <td>0</td>\n",
              "      <td>0.058081</td>\n",
              "      <td>0</td>\n",
              "      <td>0.146593</td>\n",
              "      <td>0.005964</td>\n",
              "      <td>1</td>\n",
              "      <td>1</td>\n",
              "      <td>41</td>\n",
              "      <td>0</td>\n",
              "      <td>5559</td>\n",
              "      <td>309</td>\n",
              "      <td>10</td>\n",
              "      <td>0.038835</td>\n",
              "      <td>0.063126</td>\n",
              "    </tr>\n",
              "    <tr>\n",
              "      <th>4</th>\n",
              "      <td>http://www.wired.com/gadgetlab/2011/12/stem-tu...</td>\n",
              "      <td>3589</td>\n",
              "      <td>{\"title\":\"Stem Turns Lemons and Limes Into Jui...</td>\n",
              "      <td>science_technology</td>\n",
              "      <td>0.486363</td>\n",
              "      <td>1.848000</td>\n",
              "      <td>0.470968</td>\n",
              "      <td>0.161290</td>\n",
              "      <td>0.032258</td>\n",
              "      <td>0.000000</td>\n",
              "      <td>0.453757</td>\n",
              "      <td>0.0</td>\n",
              "      <td>0</td>\n",
              "      <td>0.093023</td>\n",
              "      <td>0</td>\n",
              "      <td>0.244141</td>\n",
              "      <td>0.035714</td>\n",
              "      <td>1</td>\n",
              "      <td>0</td>\n",
              "      <td>34</td>\n",
              "      <td>0</td>\n",
              "      <td>2209</td>\n",
              "      <td>155</td>\n",
              "      <td>10</td>\n",
              "      <td>0.096774</td>\n",
              "      <td>0.065341</td>\n",
              "    </tr>\n",
              "  </tbody>\n",
              "</table>\n",
              "</div>"
            ],
            "text/plain": [
              "                                                 url  ...  spelling_errors_ratio\n",
              "0  http://www.lynnskitchenadventures.com/2009/04/...  ...               0.080597\n",
              "1            http://lolpics.se/18552-stun-grenade-ar  ...               0.176471\n",
              "2  http://www.xcelerationfitness.com/treadmills.html  ...               0.125000\n",
              "3  http://www.bloomberg.com/news/2012-02-06/syria...  ...               0.063126\n",
              "4  http://www.wired.com/gadgetlab/2011/12/stem-tu...  ...               0.065341\n",
              "\n",
              "[5 rows x 26 columns]"
            ]
          },
          "metadata": {
            "tags": []
          },
          "execution_count": 35
        }
      ]
    },
    {
      "cell_type": "code",
      "metadata": {
        "colab": {
          "base_uri": "https://localhost:8080/",
          "height": 395
        },
        "id": "Iiym3x-DQXXW",
        "outputId": "b60e30c7-30d7-446f-b2bd-e2d1f6d9d78c"
      },
      "source": [
        "df_test.tail()"
      ],
      "execution_count": 36,
      "outputs": [
        {
          "output_type": "execute_result",
          "data": {
            "text/html": [
              "<div>\n",
              "<style scoped>\n",
              "    .dataframe tbody tr th:only-of-type {\n",
              "        vertical-align: middle;\n",
              "    }\n",
              "\n",
              "    .dataframe tbody tr th {\n",
              "        vertical-align: top;\n",
              "    }\n",
              "\n",
              "    .dataframe thead th {\n",
              "        text-align: right;\n",
              "    }\n",
              "</style>\n",
              "<table border=\"1\" class=\"dataframe\">\n",
              "  <thead>\n",
              "    <tr style=\"text-align: right;\">\n",
              "      <th></th>\n",
              "      <th>url</th>\n",
              "      <th>urlid</th>\n",
              "      <th>boilerplate</th>\n",
              "      <th>alchemy_category</th>\n",
              "      <th>alchemy_category_score</th>\n",
              "      <th>avglinksize</th>\n",
              "      <th>commonlinkratio_1</th>\n",
              "      <th>commonlinkratio_2</th>\n",
              "      <th>commonlinkratio_3</th>\n",
              "      <th>commonlinkratio_4</th>\n",
              "      <th>compression_ratio</th>\n",
              "      <th>embed_ratio</th>\n",
              "      <th>framebased</th>\n",
              "      <th>frameTagRatio</th>\n",
              "      <th>hasDomainLink</th>\n",
              "      <th>html_ratio</th>\n",
              "      <th>image_ratio</th>\n",
              "      <th>is_news</th>\n",
              "      <th>lengthyLinkDomain</th>\n",
              "      <th>linkwordscore</th>\n",
              "      <th>news_front_page</th>\n",
              "      <th>non_markup_alphanum_characters</th>\n",
              "      <th>numberOfLinks</th>\n",
              "      <th>numwords_in_url</th>\n",
              "      <th>parametrizedLinkRatio</th>\n",
              "      <th>spelling_errors_ratio</th>\n",
              "    </tr>\n",
              "  </thead>\n",
              "  <tbody>\n",
              "    <tr>\n",
              "      <th>3166</th>\n",
              "      <td>http://busy-mommy.com/2012/02/peep-brownie-smo...</td>\n",
              "      <td>7264</td>\n",
              "      <td>{\"title\":\"Peep Brownie S mores Busy Mommy An I...</td>\n",
              "      <td>?</td>\n",
              "      <td>?</td>\n",
              "      <td>1.666667</td>\n",
              "      <td>0.376623</td>\n",
              "      <td>0.129870</td>\n",
              "      <td>0.116883</td>\n",
              "      <td>0.090909</td>\n",
              "      <td>0.451883</td>\n",
              "      <td>0.0</td>\n",
              "      <td>0</td>\n",
              "      <td>0.053763</td>\n",
              "      <td>0</td>\n",
              "      <td>0.227346</td>\n",
              "      <td>0.075630</td>\n",
              "      <td>1</td>\n",
              "      <td>0</td>\n",
              "      <td>16</td>\n",
              "      <td>0</td>\n",
              "      <td>2772</td>\n",
              "      <td>77</td>\n",
              "      <td>3</td>\n",
              "      <td>0.012987</td>\n",
              "      <td>0.063401</td>\n",
              "    </tr>\n",
              "    <tr>\n",
              "      <th>3167</th>\n",
              "      <td>http://www.cannabissearch.com/edibles/cheesecake/</td>\n",
              "      <td>9714</td>\n",
              "      <td>{\"url\":\"cannabissearch edibles cheesecake\",\"ti...</td>\n",
              "      <td>?</td>\n",
              "      <td>?</td>\n",
              "      <td>1.305556</td>\n",
              "      <td>0.654321</td>\n",
              "      <td>0.123457</td>\n",
              "      <td>0.024691</td>\n",
              "      <td>0.000000</td>\n",
              "      <td>0.479177</td>\n",
              "      <td>0.0</td>\n",
              "      <td>0</td>\n",
              "      <td>0.019784</td>\n",
              "      <td>0</td>\n",
              "      <td>0.227176</td>\n",
              "      <td>0.284153</td>\n",
              "      <td>1</td>\n",
              "      <td>0</td>\n",
              "      <td>6</td>\n",
              "      <td>0</td>\n",
              "      <td>6058</td>\n",
              "      <td>81</td>\n",
              "      <td>2</td>\n",
              "      <td>0.333333</td>\n",
              "      <td>0.061995</td>\n",
              "    </tr>\n",
              "    <tr>\n",
              "      <th>3168</th>\n",
              "      <td>http://www.tastespotting.com/popular/views/all...</td>\n",
              "      <td>5903</td>\n",
              "      <td>{\"title\":\"Most Viewed Submissions All Time mos...</td>\n",
              "      <td>?</td>\n",
              "      <td>?</td>\n",
              "      <td>0.717277</td>\n",
              "      <td>0.291667</td>\n",
              "      <td>0.182292</td>\n",
              "      <td>0.000000</td>\n",
              "      <td>0.000000</td>\n",
              "      <td>0.598441</td>\n",
              "      <td>0.0</td>\n",
              "      <td>0</td>\n",
              "      <td>0.027642</td>\n",
              "      <td>0</td>\n",
              "      <td>0.177000</td>\n",
              "      <td>0.500000</td>\n",
              "      <td>1</td>\n",
              "      <td>0</td>\n",
              "      <td>19</td>\n",
              "      <td>0</td>\n",
              "      <td>2876</td>\n",
              "      <td>192</td>\n",
              "      <td>4</td>\n",
              "      <td>0.177083</td>\n",
              "      <td>0.117647</td>\n",
              "    </tr>\n",
              "    <tr>\n",
              "      <th>3169</th>\n",
              "      <td>http://lifehacker.com/5839197/how-to-get-a-ful...</td>\n",
              "      <td>3176</td>\n",
              "      <td>{\"title\":\"How to Get a Complete Workout with N...</td>\n",
              "      <td>sports</td>\n",
              "      <td>0.424304</td>\n",
              "      <td>0.940000</td>\n",
              "      <td>0.183333</td>\n",
              "      <td>0.066667</td>\n",
              "      <td>0.016667</td>\n",
              "      <td>0.016667</td>\n",
              "      <td>0.359847</td>\n",
              "      <td>0.0</td>\n",
              "      <td>0</td>\n",
              "      <td>0.071869</td>\n",
              "      <td>0</td>\n",
              "      <td>0.205830</td>\n",
              "      <td>0.014502</td>\n",
              "      <td>1</td>\n",
              "      <td>1</td>\n",
              "      <td>3</td>\n",
              "      <td>0</td>\n",
              "      <td>21029</td>\n",
              "      <td>180</td>\n",
              "      <td>12</td>\n",
              "      <td>0.333333</td>\n",
              "      <td>0.111966</td>\n",
              "    </tr>\n",
              "    <tr>\n",
              "      <th>3170</th>\n",
              "      <td>http://www.howsweeteats.com/2011/03/crispy-par...</td>\n",
              "      <td>7441</td>\n",
              "      <td>{\"title\":\"Crispy Parmesan Asparagus Sticks How...</td>\n",
              "      <td>arts_entertainment</td>\n",
              "      <td>0.585166</td>\n",
              "      <td>2.621212</td>\n",
              "      <td>0.516373</td>\n",
              "      <td>0.105793</td>\n",
              "      <td>0.015113</td>\n",
              "      <td>0.002519</td>\n",
              "      <td>0.463425</td>\n",
              "      <td>0.0</td>\n",
              "      <td>0</td>\n",
              "      <td>0.009597</td>\n",
              "      <td>0</td>\n",
              "      <td>0.186275</td>\n",
              "      <td>0.336364</td>\n",
              "      <td>1</td>\n",
              "      <td>1</td>\n",
              "      <td>14</td>\n",
              "      <td>0</td>\n",
              "      <td>13067</td>\n",
              "      <td>397</td>\n",
              "      <td>4</td>\n",
              "      <td>0.287154</td>\n",
              "      <td>0.130024</td>\n",
              "    </tr>\n",
              "  </tbody>\n",
              "</table>\n",
              "</div>"
            ],
            "text/plain": [
              "                                                    url  ...  spelling_errors_ratio\n",
              "3166  http://busy-mommy.com/2012/02/peep-brownie-smo...  ...               0.063401\n",
              "3167  http://www.cannabissearch.com/edibles/cheesecake/  ...               0.061995\n",
              "3168  http://www.tastespotting.com/popular/views/all...  ...               0.117647\n",
              "3169  http://lifehacker.com/5839197/how-to-get-a-ful...  ...               0.111966\n",
              "3170  http://www.howsweeteats.com/2011/03/crispy-par...  ...               0.130024\n",
              "\n",
              "[5 rows x 26 columns]"
            ]
          },
          "metadata": {
            "tags": []
          },
          "execution_count": 36
        }
      ]
    },
    {
      "cell_type": "code",
      "metadata": {
        "id": "Mtp1BiUWDGzO"
      },
      "source": [
        "missing_values = '?'\r\n",
        "df_test = pd.read_csv('/content/drive/MyDrive/Stylumia/test.tsv', sep='\\t', na_values = missing_values)"
      ],
      "execution_count": 37,
      "outputs": []
    },
    {
      "cell_type": "code",
      "metadata": {
        "colab": {
          "base_uri": "https://localhost:8080/"
        },
        "id": "YVDfBz41N4oi",
        "outputId": "b630068c-db3e-4a95-d70f-a710701d10aa"
      },
      "source": [
        "df_test.isna().sum()"
      ],
      "execution_count": 38,
      "outputs": [
        {
          "output_type": "execute_result",
          "data": {
            "text/plain": [
              "url                                  0\n",
              "urlid                                0\n",
              "boilerplate                          0\n",
              "alchemy_category                  1046\n",
              "alchemy_category_score            1046\n",
              "avglinksize                          0\n",
              "commonlinkratio_1                    0\n",
              "commonlinkratio_2                    0\n",
              "commonlinkratio_3                    0\n",
              "commonlinkratio_4                    0\n",
              "compression_ratio                    0\n",
              "embed_ratio                          0\n",
              "framebased                           0\n",
              "frameTagRatio                        0\n",
              "hasDomainLink                        0\n",
              "html_ratio                           0\n",
              "image_ratio                          0\n",
              "is_news                           1225\n",
              "lengthyLinkDomain                    0\n",
              "linkwordscore                        0\n",
              "news_front_page                    583\n",
              "non_markup_alphanum_characters       0\n",
              "numberOfLinks                        0\n",
              "numwords_in_url                      0\n",
              "parametrizedLinkRatio                0\n",
              "spelling_errors_ratio                0\n",
              "dtype: int64"
            ]
          },
          "metadata": {
            "tags": []
          },
          "execution_count": 38
        }
      ]
    },
    {
      "cell_type": "code",
      "metadata": {
        "colab": {
          "base_uri": "https://localhost:8080/",
          "height": 395
        },
        "id": "XevngGHaqxPL",
        "outputId": "9c698c9c-ed38-4dd7-8121-078d5d85f94b"
      },
      "source": [
        "df_test.tail()"
      ],
      "execution_count": 39,
      "outputs": [
        {
          "output_type": "execute_result",
          "data": {
            "text/html": [
              "<div>\n",
              "<style scoped>\n",
              "    .dataframe tbody tr th:only-of-type {\n",
              "        vertical-align: middle;\n",
              "    }\n",
              "\n",
              "    .dataframe tbody tr th {\n",
              "        vertical-align: top;\n",
              "    }\n",
              "\n",
              "    .dataframe thead th {\n",
              "        text-align: right;\n",
              "    }\n",
              "</style>\n",
              "<table border=\"1\" class=\"dataframe\">\n",
              "  <thead>\n",
              "    <tr style=\"text-align: right;\">\n",
              "      <th></th>\n",
              "      <th>url</th>\n",
              "      <th>urlid</th>\n",
              "      <th>boilerplate</th>\n",
              "      <th>alchemy_category</th>\n",
              "      <th>alchemy_category_score</th>\n",
              "      <th>avglinksize</th>\n",
              "      <th>commonlinkratio_1</th>\n",
              "      <th>commonlinkratio_2</th>\n",
              "      <th>commonlinkratio_3</th>\n",
              "      <th>commonlinkratio_4</th>\n",
              "      <th>compression_ratio</th>\n",
              "      <th>embed_ratio</th>\n",
              "      <th>framebased</th>\n",
              "      <th>frameTagRatio</th>\n",
              "      <th>hasDomainLink</th>\n",
              "      <th>html_ratio</th>\n",
              "      <th>image_ratio</th>\n",
              "      <th>is_news</th>\n",
              "      <th>lengthyLinkDomain</th>\n",
              "      <th>linkwordscore</th>\n",
              "      <th>news_front_page</th>\n",
              "      <th>non_markup_alphanum_characters</th>\n",
              "      <th>numberOfLinks</th>\n",
              "      <th>numwords_in_url</th>\n",
              "      <th>parametrizedLinkRatio</th>\n",
              "      <th>spelling_errors_ratio</th>\n",
              "    </tr>\n",
              "  </thead>\n",
              "  <tbody>\n",
              "    <tr>\n",
              "      <th>3166</th>\n",
              "      <td>http://busy-mommy.com/2012/02/peep-brownie-smo...</td>\n",
              "      <td>7264</td>\n",
              "      <td>{\"title\":\"Peep Brownie S mores Busy Mommy An I...</td>\n",
              "      <td>NaN</td>\n",
              "      <td>NaN</td>\n",
              "      <td>1.666667</td>\n",
              "      <td>0.376623</td>\n",
              "      <td>0.129870</td>\n",
              "      <td>0.116883</td>\n",
              "      <td>0.090909</td>\n",
              "      <td>0.451883</td>\n",
              "      <td>0.0</td>\n",
              "      <td>0</td>\n",
              "      <td>0.053763</td>\n",
              "      <td>0</td>\n",
              "      <td>0.227346</td>\n",
              "      <td>0.075630</td>\n",
              "      <td>1.0</td>\n",
              "      <td>0</td>\n",
              "      <td>16</td>\n",
              "      <td>0.0</td>\n",
              "      <td>2772</td>\n",
              "      <td>77</td>\n",
              "      <td>3</td>\n",
              "      <td>0.012987</td>\n",
              "      <td>0.063401</td>\n",
              "    </tr>\n",
              "    <tr>\n",
              "      <th>3167</th>\n",
              "      <td>http://www.cannabissearch.com/edibles/cheesecake/</td>\n",
              "      <td>9714</td>\n",
              "      <td>{\"url\":\"cannabissearch edibles cheesecake\",\"ti...</td>\n",
              "      <td>NaN</td>\n",
              "      <td>NaN</td>\n",
              "      <td>1.305556</td>\n",
              "      <td>0.654321</td>\n",
              "      <td>0.123457</td>\n",
              "      <td>0.024691</td>\n",
              "      <td>0.000000</td>\n",
              "      <td>0.479177</td>\n",
              "      <td>0.0</td>\n",
              "      <td>0</td>\n",
              "      <td>0.019784</td>\n",
              "      <td>0</td>\n",
              "      <td>0.227176</td>\n",
              "      <td>0.284153</td>\n",
              "      <td>1.0</td>\n",
              "      <td>0</td>\n",
              "      <td>6</td>\n",
              "      <td>0.0</td>\n",
              "      <td>6058</td>\n",
              "      <td>81</td>\n",
              "      <td>2</td>\n",
              "      <td>0.333333</td>\n",
              "      <td>0.061995</td>\n",
              "    </tr>\n",
              "    <tr>\n",
              "      <th>3168</th>\n",
              "      <td>http://www.tastespotting.com/popular/views/all...</td>\n",
              "      <td>5903</td>\n",
              "      <td>{\"title\":\"Most Viewed Submissions All Time mos...</td>\n",
              "      <td>NaN</td>\n",
              "      <td>NaN</td>\n",
              "      <td>0.717277</td>\n",
              "      <td>0.291667</td>\n",
              "      <td>0.182292</td>\n",
              "      <td>0.000000</td>\n",
              "      <td>0.000000</td>\n",
              "      <td>0.598441</td>\n",
              "      <td>0.0</td>\n",
              "      <td>0</td>\n",
              "      <td>0.027642</td>\n",
              "      <td>0</td>\n",
              "      <td>0.177000</td>\n",
              "      <td>0.500000</td>\n",
              "      <td>1.0</td>\n",
              "      <td>0</td>\n",
              "      <td>19</td>\n",
              "      <td>0.0</td>\n",
              "      <td>2876</td>\n",
              "      <td>192</td>\n",
              "      <td>4</td>\n",
              "      <td>0.177083</td>\n",
              "      <td>0.117647</td>\n",
              "    </tr>\n",
              "    <tr>\n",
              "      <th>3169</th>\n",
              "      <td>http://lifehacker.com/5839197/how-to-get-a-ful...</td>\n",
              "      <td>3176</td>\n",
              "      <td>{\"title\":\"How to Get a Complete Workout with N...</td>\n",
              "      <td>sports</td>\n",
              "      <td>0.424304</td>\n",
              "      <td>0.940000</td>\n",
              "      <td>0.183333</td>\n",
              "      <td>0.066667</td>\n",
              "      <td>0.016667</td>\n",
              "      <td>0.016667</td>\n",
              "      <td>0.359847</td>\n",
              "      <td>0.0</td>\n",
              "      <td>0</td>\n",
              "      <td>0.071869</td>\n",
              "      <td>0</td>\n",
              "      <td>0.205830</td>\n",
              "      <td>0.014502</td>\n",
              "      <td>1.0</td>\n",
              "      <td>1</td>\n",
              "      <td>3</td>\n",
              "      <td>0.0</td>\n",
              "      <td>21029</td>\n",
              "      <td>180</td>\n",
              "      <td>12</td>\n",
              "      <td>0.333333</td>\n",
              "      <td>0.111966</td>\n",
              "    </tr>\n",
              "    <tr>\n",
              "      <th>3170</th>\n",
              "      <td>http://www.howsweeteats.com/2011/03/crispy-par...</td>\n",
              "      <td>7441</td>\n",
              "      <td>{\"title\":\"Crispy Parmesan Asparagus Sticks How...</td>\n",
              "      <td>arts_entertainment</td>\n",
              "      <td>0.585166</td>\n",
              "      <td>2.621212</td>\n",
              "      <td>0.516373</td>\n",
              "      <td>0.105793</td>\n",
              "      <td>0.015113</td>\n",
              "      <td>0.002519</td>\n",
              "      <td>0.463425</td>\n",
              "      <td>0.0</td>\n",
              "      <td>0</td>\n",
              "      <td>0.009597</td>\n",
              "      <td>0</td>\n",
              "      <td>0.186275</td>\n",
              "      <td>0.336364</td>\n",
              "      <td>1.0</td>\n",
              "      <td>1</td>\n",
              "      <td>14</td>\n",
              "      <td>0.0</td>\n",
              "      <td>13067</td>\n",
              "      <td>397</td>\n",
              "      <td>4</td>\n",
              "      <td>0.287154</td>\n",
              "      <td>0.130024</td>\n",
              "    </tr>\n",
              "  </tbody>\n",
              "</table>\n",
              "</div>"
            ],
            "text/plain": [
              "                                                    url  ...  spelling_errors_ratio\n",
              "3166  http://busy-mommy.com/2012/02/peep-brownie-smo...  ...               0.063401\n",
              "3167  http://www.cannabissearch.com/edibles/cheesecake/  ...               0.061995\n",
              "3168  http://www.tastespotting.com/popular/views/all...  ...               0.117647\n",
              "3169  http://lifehacker.com/5839197/how-to-get-a-ful...  ...               0.111966\n",
              "3170  http://www.howsweeteats.com/2011/03/crispy-par...  ...               0.130024\n",
              "\n",
              "[5 rows x 26 columns]"
            ]
          },
          "metadata": {
            "tags": []
          },
          "execution_count": 39
        }
      ]
    },
    {
      "cell_type": "code",
      "metadata": {
        "id": "6Ram9ZimN4rN"
      },
      "source": [
        "df_test['alchemy_category'] = df_test['alchemy_category'].fillna('Unknown Category')\r\n",
        "df_test['alchemy_category_score'].fillna(df_test['alchemy_category_score'].mean(),inplace=True)\r\n",
        "df_test['is_news'] = df_test['is_news'].fillna('1')\r\n",
        "df_test['news_front_page'].fillna(df_test['news_front_page'].mean(),inplace=True)"
      ],
      "execution_count": 40,
      "outputs": []
    },
    {
      "cell_type": "code",
      "metadata": {
        "colab": {
          "base_uri": "https://localhost:8080/",
          "height": 395
        },
        "id": "p7vlM-rfqY05",
        "outputId": "0c1cf95d-2305-4df3-c48d-85fb301103a0"
      },
      "source": [
        "df_test.tail()"
      ],
      "execution_count": 41,
      "outputs": [
        {
          "output_type": "execute_result",
          "data": {
            "text/html": [
              "<div>\n",
              "<style scoped>\n",
              "    .dataframe tbody tr th:only-of-type {\n",
              "        vertical-align: middle;\n",
              "    }\n",
              "\n",
              "    .dataframe tbody tr th {\n",
              "        vertical-align: top;\n",
              "    }\n",
              "\n",
              "    .dataframe thead th {\n",
              "        text-align: right;\n",
              "    }\n",
              "</style>\n",
              "<table border=\"1\" class=\"dataframe\">\n",
              "  <thead>\n",
              "    <tr style=\"text-align: right;\">\n",
              "      <th></th>\n",
              "      <th>url</th>\n",
              "      <th>urlid</th>\n",
              "      <th>boilerplate</th>\n",
              "      <th>alchemy_category</th>\n",
              "      <th>alchemy_category_score</th>\n",
              "      <th>avglinksize</th>\n",
              "      <th>commonlinkratio_1</th>\n",
              "      <th>commonlinkratio_2</th>\n",
              "      <th>commonlinkratio_3</th>\n",
              "      <th>commonlinkratio_4</th>\n",
              "      <th>compression_ratio</th>\n",
              "      <th>embed_ratio</th>\n",
              "      <th>framebased</th>\n",
              "      <th>frameTagRatio</th>\n",
              "      <th>hasDomainLink</th>\n",
              "      <th>html_ratio</th>\n",
              "      <th>image_ratio</th>\n",
              "      <th>is_news</th>\n",
              "      <th>lengthyLinkDomain</th>\n",
              "      <th>linkwordscore</th>\n",
              "      <th>news_front_page</th>\n",
              "      <th>non_markup_alphanum_characters</th>\n",
              "      <th>numberOfLinks</th>\n",
              "      <th>numwords_in_url</th>\n",
              "      <th>parametrizedLinkRatio</th>\n",
              "      <th>spelling_errors_ratio</th>\n",
              "    </tr>\n",
              "  </thead>\n",
              "  <tbody>\n",
              "    <tr>\n",
              "      <th>3166</th>\n",
              "      <td>http://busy-mommy.com/2012/02/peep-brownie-smo...</td>\n",
              "      <td>7264</td>\n",
              "      <td>{\"title\":\"Peep Brownie S mores Busy Mommy An I...</td>\n",
              "      <td>Unknown Category</td>\n",
              "      <td>0.594819</td>\n",
              "      <td>1.666667</td>\n",
              "      <td>0.376623</td>\n",
              "      <td>0.129870</td>\n",
              "      <td>0.116883</td>\n",
              "      <td>0.090909</td>\n",
              "      <td>0.451883</td>\n",
              "      <td>0.0</td>\n",
              "      <td>0</td>\n",
              "      <td>0.053763</td>\n",
              "      <td>0</td>\n",
              "      <td>0.227346</td>\n",
              "      <td>0.075630</td>\n",
              "      <td>1</td>\n",
              "      <td>0</td>\n",
              "      <td>16</td>\n",
              "      <td>0.0</td>\n",
              "      <td>2772</td>\n",
              "      <td>77</td>\n",
              "      <td>3</td>\n",
              "      <td>0.012987</td>\n",
              "      <td>0.063401</td>\n",
              "    </tr>\n",
              "    <tr>\n",
              "      <th>3167</th>\n",
              "      <td>http://www.cannabissearch.com/edibles/cheesecake/</td>\n",
              "      <td>9714</td>\n",
              "      <td>{\"url\":\"cannabissearch edibles cheesecake\",\"ti...</td>\n",
              "      <td>Unknown Category</td>\n",
              "      <td>0.594819</td>\n",
              "      <td>1.305556</td>\n",
              "      <td>0.654321</td>\n",
              "      <td>0.123457</td>\n",
              "      <td>0.024691</td>\n",
              "      <td>0.000000</td>\n",
              "      <td>0.479177</td>\n",
              "      <td>0.0</td>\n",
              "      <td>0</td>\n",
              "      <td>0.019784</td>\n",
              "      <td>0</td>\n",
              "      <td>0.227176</td>\n",
              "      <td>0.284153</td>\n",
              "      <td>1</td>\n",
              "      <td>0</td>\n",
              "      <td>6</td>\n",
              "      <td>0.0</td>\n",
              "      <td>6058</td>\n",
              "      <td>81</td>\n",
              "      <td>2</td>\n",
              "      <td>0.333333</td>\n",
              "      <td>0.061995</td>\n",
              "    </tr>\n",
              "    <tr>\n",
              "      <th>3168</th>\n",
              "      <td>http://www.tastespotting.com/popular/views/all...</td>\n",
              "      <td>5903</td>\n",
              "      <td>{\"title\":\"Most Viewed Submissions All Time mos...</td>\n",
              "      <td>Unknown Category</td>\n",
              "      <td>0.594819</td>\n",
              "      <td>0.717277</td>\n",
              "      <td>0.291667</td>\n",
              "      <td>0.182292</td>\n",
              "      <td>0.000000</td>\n",
              "      <td>0.000000</td>\n",
              "      <td>0.598441</td>\n",
              "      <td>0.0</td>\n",
              "      <td>0</td>\n",
              "      <td>0.027642</td>\n",
              "      <td>0</td>\n",
              "      <td>0.177000</td>\n",
              "      <td>0.500000</td>\n",
              "      <td>1</td>\n",
              "      <td>0</td>\n",
              "      <td>19</td>\n",
              "      <td>0.0</td>\n",
              "      <td>2876</td>\n",
              "      <td>192</td>\n",
              "      <td>4</td>\n",
              "      <td>0.177083</td>\n",
              "      <td>0.117647</td>\n",
              "    </tr>\n",
              "    <tr>\n",
              "      <th>3169</th>\n",
              "      <td>http://lifehacker.com/5839197/how-to-get-a-ful...</td>\n",
              "      <td>3176</td>\n",
              "      <td>{\"title\":\"How to Get a Complete Workout with N...</td>\n",
              "      <td>sports</td>\n",
              "      <td>0.424304</td>\n",
              "      <td>0.940000</td>\n",
              "      <td>0.183333</td>\n",
              "      <td>0.066667</td>\n",
              "      <td>0.016667</td>\n",
              "      <td>0.016667</td>\n",
              "      <td>0.359847</td>\n",
              "      <td>0.0</td>\n",
              "      <td>0</td>\n",
              "      <td>0.071869</td>\n",
              "      <td>0</td>\n",
              "      <td>0.205830</td>\n",
              "      <td>0.014502</td>\n",
              "      <td>1</td>\n",
              "      <td>1</td>\n",
              "      <td>3</td>\n",
              "      <td>0.0</td>\n",
              "      <td>21029</td>\n",
              "      <td>180</td>\n",
              "      <td>12</td>\n",
              "      <td>0.333333</td>\n",
              "      <td>0.111966</td>\n",
              "    </tr>\n",
              "    <tr>\n",
              "      <th>3170</th>\n",
              "      <td>http://www.howsweeteats.com/2011/03/crispy-par...</td>\n",
              "      <td>7441</td>\n",
              "      <td>{\"title\":\"Crispy Parmesan Asparagus Sticks How...</td>\n",
              "      <td>arts_entertainment</td>\n",
              "      <td>0.585166</td>\n",
              "      <td>2.621212</td>\n",
              "      <td>0.516373</td>\n",
              "      <td>0.105793</td>\n",
              "      <td>0.015113</td>\n",
              "      <td>0.002519</td>\n",
              "      <td>0.463425</td>\n",
              "      <td>0.0</td>\n",
              "      <td>0</td>\n",
              "      <td>0.009597</td>\n",
              "      <td>0</td>\n",
              "      <td>0.186275</td>\n",
              "      <td>0.336364</td>\n",
              "      <td>1</td>\n",
              "      <td>1</td>\n",
              "      <td>14</td>\n",
              "      <td>0.0</td>\n",
              "      <td>13067</td>\n",
              "      <td>397</td>\n",
              "      <td>4</td>\n",
              "      <td>0.287154</td>\n",
              "      <td>0.130024</td>\n",
              "    </tr>\n",
              "  </tbody>\n",
              "</table>\n",
              "</div>"
            ],
            "text/plain": [
              "                                                    url  ...  spelling_errors_ratio\n",
              "3166  http://busy-mommy.com/2012/02/peep-brownie-smo...  ...               0.063401\n",
              "3167  http://www.cannabissearch.com/edibles/cheesecake/  ...               0.061995\n",
              "3168  http://www.tastespotting.com/popular/views/all...  ...               0.117647\n",
              "3169  http://lifehacker.com/5839197/how-to-get-a-ful...  ...               0.111966\n",
              "3170  http://www.howsweeteats.com/2011/03/crispy-par...  ...               0.130024\n",
              "\n",
              "[5 rows x 26 columns]"
            ]
          },
          "metadata": {
            "tags": []
          },
          "execution_count": 41
        }
      ]
    },
    {
      "cell_type": "code",
      "metadata": {
        "id": "c33idaIfN4wJ"
      },
      "source": [
        "df_test['url'] = LabelEncoder().fit_transform(df_test['url'])\r\n",
        "df_test['boilerplate'] = LabelEncoder().fit_transform(df_test['boilerplate'])\r\n",
        "df_test['alchemy_category'] = LabelEncoder().fit_transform(df_test['alchemy_category'])"
      ],
      "execution_count": 42,
      "outputs": []
    },
    {
      "cell_type": "code",
      "metadata": {
        "id": "mbwx3if9R7l_",
        "colab": {
          "base_uri": "https://localhost:8080/",
          "height": 222
        },
        "outputId": "cf50013f-18ce-495e-ab9c-fdfe435bcdd8"
      },
      "source": [
        "df_test.head()"
      ],
      "execution_count": 43,
      "outputs": [
        {
          "output_type": "execute_result",
          "data": {
            "text/html": [
              "<div>\n",
              "<style scoped>\n",
              "    .dataframe tbody tr th:only-of-type {\n",
              "        vertical-align: middle;\n",
              "    }\n",
              "\n",
              "    .dataframe tbody tr th {\n",
              "        vertical-align: top;\n",
              "    }\n",
              "\n",
              "    .dataframe thead th {\n",
              "        text-align: right;\n",
              "    }\n",
              "</style>\n",
              "<table border=\"1\" class=\"dataframe\">\n",
              "  <thead>\n",
              "    <tr style=\"text-align: right;\">\n",
              "      <th></th>\n",
              "      <th>url</th>\n",
              "      <th>urlid</th>\n",
              "      <th>boilerplate</th>\n",
              "      <th>alchemy_category</th>\n",
              "      <th>alchemy_category_score</th>\n",
              "      <th>avglinksize</th>\n",
              "      <th>commonlinkratio_1</th>\n",
              "      <th>commonlinkratio_2</th>\n",
              "      <th>commonlinkratio_3</th>\n",
              "      <th>commonlinkratio_4</th>\n",
              "      <th>compression_ratio</th>\n",
              "      <th>embed_ratio</th>\n",
              "      <th>framebased</th>\n",
              "      <th>frameTagRatio</th>\n",
              "      <th>hasDomainLink</th>\n",
              "      <th>html_ratio</th>\n",
              "      <th>image_ratio</th>\n",
              "      <th>is_news</th>\n",
              "      <th>lengthyLinkDomain</th>\n",
              "      <th>linkwordscore</th>\n",
              "      <th>news_front_page</th>\n",
              "      <th>non_markup_alphanum_characters</th>\n",
              "      <th>numberOfLinks</th>\n",
              "      <th>numwords_in_url</th>\n",
              "      <th>parametrizedLinkRatio</th>\n",
              "      <th>spelling_errors_ratio</th>\n",
              "    </tr>\n",
              "  </thead>\n",
              "  <tbody>\n",
              "    <tr>\n",
              "      <th>0</th>\n",
              "      <td>2257</td>\n",
              "      <td>5865</td>\n",
              "      <td>1174</td>\n",
              "      <td>8</td>\n",
              "      <td>0.443906</td>\n",
              "      <td>2.558140</td>\n",
              "      <td>0.389706</td>\n",
              "      <td>0.257353</td>\n",
              "      <td>0.044118</td>\n",
              "      <td>0.022059</td>\n",
              "      <td>0.489572</td>\n",
              "      <td>0.0</td>\n",
              "      <td>0</td>\n",
              "      <td>0.067143</td>\n",
              "      <td>0</td>\n",
              "      <td>0.230285</td>\n",
              "      <td>0.199438</td>\n",
              "      <td>1</td>\n",
              "      <td>1</td>\n",
              "      <td>15</td>\n",
              "      <td>0.0</td>\n",
              "      <td>5643</td>\n",
              "      <td>136</td>\n",
              "      <td>3</td>\n",
              "      <td>0.242647</td>\n",
              "      <td>0.080597</td>\n",
              "    </tr>\n",
              "    <tr>\n",
              "      <th>1</th>\n",
              "      <td>659</td>\n",
              "      <td>782</td>\n",
              "      <td>2513</td>\n",
              "      <td>4</td>\n",
              "      <td>0.135844</td>\n",
              "      <td>3.771429</td>\n",
              "      <td>0.461538</td>\n",
              "      <td>0.205128</td>\n",
              "      <td>0.051282</td>\n",
              "      <td>0.000000</td>\n",
              "      <td>0.782051</td>\n",
              "      <td>0.0</td>\n",
              "      <td>0</td>\n",
              "      <td>0.042857</td>\n",
              "      <td>0</td>\n",
              "      <td>0.365962</td>\n",
              "      <td>0.080000</td>\n",
              "      <td>1</td>\n",
              "      <td>1</td>\n",
              "      <td>62</td>\n",
              "      <td>0.0</td>\n",
              "      <td>382</td>\n",
              "      <td>39</td>\n",
              "      <td>2</td>\n",
              "      <td>0.128205</td>\n",
              "      <td>0.176471</td>\n",
              "    </tr>\n",
              "    <tr>\n",
              "      <th>2</th>\n",
              "      <td>3093</td>\n",
              "      <td>6962</td>\n",
              "      <td>2280</td>\n",
              "      <td>0</td>\n",
              "      <td>0.594819</td>\n",
              "      <td>2.269565</td>\n",
              "      <td>0.495726</td>\n",
              "      <td>0.384615</td>\n",
              "      <td>0.170940</td>\n",
              "      <td>0.170940</td>\n",
              "      <td>1.250000</td>\n",
              "      <td>0.0</td>\n",
              "      <td>0</td>\n",
              "      <td>0.058824</td>\n",
              "      <td>0</td>\n",
              "      <td>0.161901</td>\n",
              "      <td>10.000000</td>\n",
              "      <td>1</td>\n",
              "      <td>1</td>\n",
              "      <td>42</td>\n",
              "      <td>0.0</td>\n",
              "      <td>2420</td>\n",
              "      <td>117</td>\n",
              "      <td>1</td>\n",
              "      <td>0.581197</td>\n",
              "      <td>0.125000</td>\n",
              "    </tr>\n",
              "    <tr>\n",
              "      <th>3</th>\n",
              "      <td>1345</td>\n",
              "      <td>7640</td>\n",
              "      <td>963</td>\n",
              "      <td>4</td>\n",
              "      <td>0.902590</td>\n",
              "      <td>2.523490</td>\n",
              "      <td>0.705502</td>\n",
              "      <td>0.346278</td>\n",
              "      <td>0.122977</td>\n",
              "      <td>0.090615</td>\n",
              "      <td>0.449366</td>\n",
              "      <td>0.0</td>\n",
              "      <td>0</td>\n",
              "      <td>0.058081</td>\n",
              "      <td>0</td>\n",
              "      <td>0.146593</td>\n",
              "      <td>0.005964</td>\n",
              "      <td>1</td>\n",
              "      <td>1</td>\n",
              "      <td>41</td>\n",
              "      <td>0.0</td>\n",
              "      <td>5559</td>\n",
              "      <td>309</td>\n",
              "      <td>10</td>\n",
              "      <td>0.038835</td>\n",
              "      <td>0.063126</td>\n",
              "    </tr>\n",
              "    <tr>\n",
              "      <th>4</th>\n",
              "      <td>3056</td>\n",
              "      <td>3589</td>\n",
              "      <td>1962</td>\n",
              "      <td>10</td>\n",
              "      <td>0.486363</td>\n",
              "      <td>1.848000</td>\n",
              "      <td>0.470968</td>\n",
              "      <td>0.161290</td>\n",
              "      <td>0.032258</td>\n",
              "      <td>0.000000</td>\n",
              "      <td>0.453757</td>\n",
              "      <td>0.0</td>\n",
              "      <td>0</td>\n",
              "      <td>0.093023</td>\n",
              "      <td>0</td>\n",
              "      <td>0.244141</td>\n",
              "      <td>0.035714</td>\n",
              "      <td>1</td>\n",
              "      <td>0</td>\n",
              "      <td>34</td>\n",
              "      <td>0.0</td>\n",
              "      <td>2209</td>\n",
              "      <td>155</td>\n",
              "      <td>10</td>\n",
              "      <td>0.096774</td>\n",
              "      <td>0.065341</td>\n",
              "    </tr>\n",
              "  </tbody>\n",
              "</table>\n",
              "</div>"
            ],
            "text/plain": [
              "    url  urlid  ...  parametrizedLinkRatio  spelling_errors_ratio\n",
              "0  2257   5865  ...               0.242647               0.080597\n",
              "1   659    782  ...               0.128205               0.176471\n",
              "2  3093   6962  ...               0.581197               0.125000\n",
              "3  1345   7640  ...               0.038835               0.063126\n",
              "4  3056   3589  ...               0.096774               0.065341\n",
              "\n",
              "[5 rows x 26 columns]"
            ]
          },
          "metadata": {
            "tags": []
          },
          "execution_count": 43
        }
      ]
    },
    {
      "cell_type": "code",
      "metadata": {
        "colab": {
          "base_uri": "https://localhost:8080/",
          "height": 222
        },
        "id": "vEYk8gNFrm4G",
        "outputId": "d2cdb524-27c0-41a5-cfb9-e9f5a0edd70c"
      },
      "source": [
        "df_test.tail()"
      ],
      "execution_count": 44,
      "outputs": [
        {
          "output_type": "execute_result",
          "data": {
            "text/html": [
              "<div>\n",
              "<style scoped>\n",
              "    .dataframe tbody tr th:only-of-type {\n",
              "        vertical-align: middle;\n",
              "    }\n",
              "\n",
              "    .dataframe tbody tr th {\n",
              "        vertical-align: top;\n",
              "    }\n",
              "\n",
              "    .dataframe thead th {\n",
              "        text-align: right;\n",
              "    }\n",
              "</style>\n",
              "<table border=\"1\" class=\"dataframe\">\n",
              "  <thead>\n",
              "    <tr style=\"text-align: right;\">\n",
              "      <th></th>\n",
              "      <th>url</th>\n",
              "      <th>urlid</th>\n",
              "      <th>boilerplate</th>\n",
              "      <th>alchemy_category</th>\n",
              "      <th>alchemy_category_score</th>\n",
              "      <th>avglinksize</th>\n",
              "      <th>commonlinkratio_1</th>\n",
              "      <th>commonlinkratio_2</th>\n",
              "      <th>commonlinkratio_3</th>\n",
              "      <th>commonlinkratio_4</th>\n",
              "      <th>compression_ratio</th>\n",
              "      <th>embed_ratio</th>\n",
              "      <th>framebased</th>\n",
              "      <th>frameTagRatio</th>\n",
              "      <th>hasDomainLink</th>\n",
              "      <th>html_ratio</th>\n",
              "      <th>image_ratio</th>\n",
              "      <th>is_news</th>\n",
              "      <th>lengthyLinkDomain</th>\n",
              "      <th>linkwordscore</th>\n",
              "      <th>news_front_page</th>\n",
              "      <th>non_markup_alphanum_characters</th>\n",
              "      <th>numberOfLinks</th>\n",
              "      <th>numwords_in_url</th>\n",
              "      <th>parametrizedLinkRatio</th>\n",
              "      <th>spelling_errors_ratio</th>\n",
              "    </tr>\n",
              "  </thead>\n",
              "  <tbody>\n",
              "    <tr>\n",
              "      <th>3166</th>\n",
              "      <td>277</td>\n",
              "      <td>7264</td>\n",
              "      <td>1680</td>\n",
              "      <td>0</td>\n",
              "      <td>0.594819</td>\n",
              "      <td>1.666667</td>\n",
              "      <td>0.376623</td>\n",
              "      <td>0.129870</td>\n",
              "      <td>0.116883</td>\n",
              "      <td>0.090909</td>\n",
              "      <td>0.451883</td>\n",
              "      <td>0.0</td>\n",
              "      <td>0</td>\n",
              "      <td>0.053763</td>\n",
              "      <td>0</td>\n",
              "      <td>0.227346</td>\n",
              "      <td>0.075630</td>\n",
              "      <td>1</td>\n",
              "      <td>0</td>\n",
              "      <td>16</td>\n",
              "      <td>0.0</td>\n",
              "      <td>2772</td>\n",
              "      <td>77</td>\n",
              "      <td>3</td>\n",
              "      <td>0.012987</td>\n",
              "      <td>0.063401</td>\n",
              "    </tr>\n",
              "    <tr>\n",
              "      <th>3167</th>\n",
              "      <td>1398</td>\n",
              "      <td>9714</td>\n",
              "      <td>2660</td>\n",
              "      <td>0</td>\n",
              "      <td>0.594819</td>\n",
              "      <td>1.305556</td>\n",
              "      <td>0.654321</td>\n",
              "      <td>0.123457</td>\n",
              "      <td>0.024691</td>\n",
              "      <td>0.000000</td>\n",
              "      <td>0.479177</td>\n",
              "      <td>0.0</td>\n",
              "      <td>0</td>\n",
              "      <td>0.019784</td>\n",
              "      <td>0</td>\n",
              "      <td>0.227176</td>\n",
              "      <td>0.284153</td>\n",
              "      <td>1</td>\n",
              "      <td>0</td>\n",
              "      <td>6</td>\n",
              "      <td>0.0</td>\n",
              "      <td>6058</td>\n",
              "      <td>81</td>\n",
              "      <td>2</td>\n",
              "      <td>0.333333</td>\n",
              "      <td>0.061995</td>\n",
              "    </tr>\n",
              "    <tr>\n",
              "      <th>3168</th>\n",
              "      <td>2788</td>\n",
              "      <td>5903</td>\n",
              "      <td>1509</td>\n",
              "      <td>0</td>\n",
              "      <td>0.594819</td>\n",
              "      <td>0.717277</td>\n",
              "      <td>0.291667</td>\n",
              "      <td>0.182292</td>\n",
              "      <td>0.000000</td>\n",
              "      <td>0.000000</td>\n",
              "      <td>0.598441</td>\n",
              "      <td>0.0</td>\n",
              "      <td>0</td>\n",
              "      <td>0.027642</td>\n",
              "      <td>0</td>\n",
              "      <td>0.177000</td>\n",
              "      <td>0.500000</td>\n",
              "      <td>1</td>\n",
              "      <td>0</td>\n",
              "      <td>19</td>\n",
              "      <td>0.0</td>\n",
              "      <td>2876</td>\n",
              "      <td>192</td>\n",
              "      <td>4</td>\n",
              "      <td>0.177083</td>\n",
              "      <td>0.117647</td>\n",
              "    </tr>\n",
              "    <tr>\n",
              "      <th>3169</th>\n",
              "      <td>647</td>\n",
              "      <td>3176</td>\n",
              "      <td>1240</td>\n",
              "      <td>11</td>\n",
              "      <td>0.424304</td>\n",
              "      <td>0.940000</td>\n",
              "      <td>0.183333</td>\n",
              "      <td>0.066667</td>\n",
              "      <td>0.016667</td>\n",
              "      <td>0.016667</td>\n",
              "      <td>0.359847</td>\n",
              "      <td>0.0</td>\n",
              "      <td>0</td>\n",
              "      <td>0.071869</td>\n",
              "      <td>0</td>\n",
              "      <td>0.205830</td>\n",
              "      <td>0.014502</td>\n",
              "      <td>1</td>\n",
              "      <td>1</td>\n",
              "      <td>3</td>\n",
              "      <td>0.0</td>\n",
              "      <td>21029</td>\n",
              "      <td>180</td>\n",
              "      <td>12</td>\n",
              "      <td>0.333333</td>\n",
              "      <td>0.111966</td>\n",
              "    </tr>\n",
              "    <tr>\n",
              "      <th>3170</th>\n",
              "      <td>1986</td>\n",
              "      <td>7441</td>\n",
              "      <td>803</td>\n",
              "      <td>1</td>\n",
              "      <td>0.585166</td>\n",
              "      <td>2.621212</td>\n",
              "      <td>0.516373</td>\n",
              "      <td>0.105793</td>\n",
              "      <td>0.015113</td>\n",
              "      <td>0.002519</td>\n",
              "      <td>0.463425</td>\n",
              "      <td>0.0</td>\n",
              "      <td>0</td>\n",
              "      <td>0.009597</td>\n",
              "      <td>0</td>\n",
              "      <td>0.186275</td>\n",
              "      <td>0.336364</td>\n",
              "      <td>1</td>\n",
              "      <td>1</td>\n",
              "      <td>14</td>\n",
              "      <td>0.0</td>\n",
              "      <td>13067</td>\n",
              "      <td>397</td>\n",
              "      <td>4</td>\n",
              "      <td>0.287154</td>\n",
              "      <td>0.130024</td>\n",
              "    </tr>\n",
              "  </tbody>\n",
              "</table>\n",
              "</div>"
            ],
            "text/plain": [
              "       url  urlid  ...  parametrizedLinkRatio  spelling_errors_ratio\n",
              "3166   277   7264  ...               0.012987               0.063401\n",
              "3167  1398   9714  ...               0.333333               0.061995\n",
              "3168  2788   5903  ...               0.177083               0.117647\n",
              "3169   647   3176  ...               0.333333               0.111966\n",
              "3170  1986   7441  ...               0.287154               0.130024\n",
              "\n",
              "[5 rows x 26 columns]"
            ]
          },
          "metadata": {
            "tags": []
          },
          "execution_count": 44
        }
      ]
    },
    {
      "cell_type": "code",
      "metadata": {
        "colab": {
          "base_uri": "https://localhost:8080/"
        },
        "id": "TC4Grqe6sH4K",
        "outputId": "c4e2769b-53a6-498c-f643-4447ee0e84df"
      },
      "source": [
        "df.columns"
      ],
      "execution_count": 45,
      "outputs": [
        {
          "output_type": "execute_result",
          "data": {
            "text/plain": [
              "Index(['url', 'urlid', 'boilerplate', 'alchemy_category',\n",
              "       'alchemy_category_score', 'avglinksize', 'commonlinkratio_1',\n",
              "       'commonlinkratio_2', 'commonlinkratio_3', 'commonlinkratio_4',\n",
              "       'compression_ratio', 'embed_ratio', 'framebased', 'frameTagRatio',\n",
              "       'hasDomainLink', 'html_ratio', 'image_ratio', 'is_news',\n",
              "       'lengthyLinkDomain', 'linkwordscore', 'news_front_page',\n",
              "       'non_markup_alphanum_characters', 'numberOfLinks', 'numwords_in_url',\n",
              "       'parametrizedLinkRatio', 'spelling_errors_ratio', 'label'],\n",
              "      dtype='object')"
            ]
          },
          "metadata": {
            "tags": []
          },
          "execution_count": 45
        }
      ]
    },
    {
      "cell_type": "code",
      "metadata": {
        "colab": {
          "base_uri": "https://localhost:8080/"
        },
        "id": "4wIqEBY_sFNr",
        "outputId": "fcbab9c8-a16d-4ab6-96c7-64e093531dae"
      },
      "source": [
        "df_test.columns"
      ],
      "execution_count": 46,
      "outputs": [
        {
          "output_type": "execute_result",
          "data": {
            "text/plain": [
              "Index(['url', 'urlid', 'boilerplate', 'alchemy_category',\n",
              "       'alchemy_category_score', 'avglinksize', 'commonlinkratio_1',\n",
              "       'commonlinkratio_2', 'commonlinkratio_3', 'commonlinkratio_4',\n",
              "       'compression_ratio', 'embed_ratio', 'framebased', 'frameTagRatio',\n",
              "       'hasDomainLink', 'html_ratio', 'image_ratio', 'is_news',\n",
              "       'lengthyLinkDomain', 'linkwordscore', 'news_front_page',\n",
              "       'non_markup_alphanum_characters', 'numberOfLinks', 'numwords_in_url',\n",
              "       'parametrizedLinkRatio', 'spelling_errors_ratio'],\n",
              "      dtype='object')"
            ]
          },
          "metadata": {
            "tags": []
          },
          "execution_count": 46
        }
      ]
    },
    {
      "cell_type": "code",
      "metadata": {
        "id": "8D_Z50j8rn1u"
      },
      "source": [
        "x_test = df_test"
      ],
      "execution_count": 47,
      "outputs": []
    },
    {
      "cell_type": "code",
      "metadata": {
        "colab": {
          "base_uri": "https://localhost:8080/",
          "height": 222
        },
        "id": "Sz9DRABbr3H5",
        "outputId": "435289f2-c5f2-43c6-b483-e72870fbe4b9"
      },
      "source": [
        "x_test.head()"
      ],
      "execution_count": 48,
      "outputs": [
        {
          "output_type": "execute_result",
          "data": {
            "text/html": [
              "<div>\n",
              "<style scoped>\n",
              "    .dataframe tbody tr th:only-of-type {\n",
              "        vertical-align: middle;\n",
              "    }\n",
              "\n",
              "    .dataframe tbody tr th {\n",
              "        vertical-align: top;\n",
              "    }\n",
              "\n",
              "    .dataframe thead th {\n",
              "        text-align: right;\n",
              "    }\n",
              "</style>\n",
              "<table border=\"1\" class=\"dataframe\">\n",
              "  <thead>\n",
              "    <tr style=\"text-align: right;\">\n",
              "      <th></th>\n",
              "      <th>url</th>\n",
              "      <th>urlid</th>\n",
              "      <th>boilerplate</th>\n",
              "      <th>alchemy_category</th>\n",
              "      <th>alchemy_category_score</th>\n",
              "      <th>avglinksize</th>\n",
              "      <th>commonlinkratio_1</th>\n",
              "      <th>commonlinkratio_2</th>\n",
              "      <th>commonlinkratio_3</th>\n",
              "      <th>commonlinkratio_4</th>\n",
              "      <th>compression_ratio</th>\n",
              "      <th>embed_ratio</th>\n",
              "      <th>framebased</th>\n",
              "      <th>frameTagRatio</th>\n",
              "      <th>hasDomainLink</th>\n",
              "      <th>html_ratio</th>\n",
              "      <th>image_ratio</th>\n",
              "      <th>is_news</th>\n",
              "      <th>lengthyLinkDomain</th>\n",
              "      <th>linkwordscore</th>\n",
              "      <th>news_front_page</th>\n",
              "      <th>non_markup_alphanum_characters</th>\n",
              "      <th>numberOfLinks</th>\n",
              "      <th>numwords_in_url</th>\n",
              "      <th>parametrizedLinkRatio</th>\n",
              "      <th>spelling_errors_ratio</th>\n",
              "    </tr>\n",
              "  </thead>\n",
              "  <tbody>\n",
              "    <tr>\n",
              "      <th>0</th>\n",
              "      <td>2257</td>\n",
              "      <td>5865</td>\n",
              "      <td>1174</td>\n",
              "      <td>8</td>\n",
              "      <td>0.443906</td>\n",
              "      <td>2.558140</td>\n",
              "      <td>0.389706</td>\n",
              "      <td>0.257353</td>\n",
              "      <td>0.044118</td>\n",
              "      <td>0.022059</td>\n",
              "      <td>0.489572</td>\n",
              "      <td>0.0</td>\n",
              "      <td>0</td>\n",
              "      <td>0.067143</td>\n",
              "      <td>0</td>\n",
              "      <td>0.230285</td>\n",
              "      <td>0.199438</td>\n",
              "      <td>1</td>\n",
              "      <td>1</td>\n",
              "      <td>15</td>\n",
              "      <td>0.0</td>\n",
              "      <td>5643</td>\n",
              "      <td>136</td>\n",
              "      <td>3</td>\n",
              "      <td>0.242647</td>\n",
              "      <td>0.080597</td>\n",
              "    </tr>\n",
              "    <tr>\n",
              "      <th>1</th>\n",
              "      <td>659</td>\n",
              "      <td>782</td>\n",
              "      <td>2513</td>\n",
              "      <td>4</td>\n",
              "      <td>0.135844</td>\n",
              "      <td>3.771429</td>\n",
              "      <td>0.461538</td>\n",
              "      <td>0.205128</td>\n",
              "      <td>0.051282</td>\n",
              "      <td>0.000000</td>\n",
              "      <td>0.782051</td>\n",
              "      <td>0.0</td>\n",
              "      <td>0</td>\n",
              "      <td>0.042857</td>\n",
              "      <td>0</td>\n",
              "      <td>0.365962</td>\n",
              "      <td>0.080000</td>\n",
              "      <td>1</td>\n",
              "      <td>1</td>\n",
              "      <td>62</td>\n",
              "      <td>0.0</td>\n",
              "      <td>382</td>\n",
              "      <td>39</td>\n",
              "      <td>2</td>\n",
              "      <td>0.128205</td>\n",
              "      <td>0.176471</td>\n",
              "    </tr>\n",
              "    <tr>\n",
              "      <th>2</th>\n",
              "      <td>3093</td>\n",
              "      <td>6962</td>\n",
              "      <td>2280</td>\n",
              "      <td>0</td>\n",
              "      <td>0.594819</td>\n",
              "      <td>2.269565</td>\n",
              "      <td>0.495726</td>\n",
              "      <td>0.384615</td>\n",
              "      <td>0.170940</td>\n",
              "      <td>0.170940</td>\n",
              "      <td>1.250000</td>\n",
              "      <td>0.0</td>\n",
              "      <td>0</td>\n",
              "      <td>0.058824</td>\n",
              "      <td>0</td>\n",
              "      <td>0.161901</td>\n",
              "      <td>10.000000</td>\n",
              "      <td>1</td>\n",
              "      <td>1</td>\n",
              "      <td>42</td>\n",
              "      <td>0.0</td>\n",
              "      <td>2420</td>\n",
              "      <td>117</td>\n",
              "      <td>1</td>\n",
              "      <td>0.581197</td>\n",
              "      <td>0.125000</td>\n",
              "    </tr>\n",
              "    <tr>\n",
              "      <th>3</th>\n",
              "      <td>1345</td>\n",
              "      <td>7640</td>\n",
              "      <td>963</td>\n",
              "      <td>4</td>\n",
              "      <td>0.902590</td>\n",
              "      <td>2.523490</td>\n",
              "      <td>0.705502</td>\n",
              "      <td>0.346278</td>\n",
              "      <td>0.122977</td>\n",
              "      <td>0.090615</td>\n",
              "      <td>0.449366</td>\n",
              "      <td>0.0</td>\n",
              "      <td>0</td>\n",
              "      <td>0.058081</td>\n",
              "      <td>0</td>\n",
              "      <td>0.146593</td>\n",
              "      <td>0.005964</td>\n",
              "      <td>1</td>\n",
              "      <td>1</td>\n",
              "      <td>41</td>\n",
              "      <td>0.0</td>\n",
              "      <td>5559</td>\n",
              "      <td>309</td>\n",
              "      <td>10</td>\n",
              "      <td>0.038835</td>\n",
              "      <td>0.063126</td>\n",
              "    </tr>\n",
              "    <tr>\n",
              "      <th>4</th>\n",
              "      <td>3056</td>\n",
              "      <td>3589</td>\n",
              "      <td>1962</td>\n",
              "      <td>10</td>\n",
              "      <td>0.486363</td>\n",
              "      <td>1.848000</td>\n",
              "      <td>0.470968</td>\n",
              "      <td>0.161290</td>\n",
              "      <td>0.032258</td>\n",
              "      <td>0.000000</td>\n",
              "      <td>0.453757</td>\n",
              "      <td>0.0</td>\n",
              "      <td>0</td>\n",
              "      <td>0.093023</td>\n",
              "      <td>0</td>\n",
              "      <td>0.244141</td>\n",
              "      <td>0.035714</td>\n",
              "      <td>1</td>\n",
              "      <td>0</td>\n",
              "      <td>34</td>\n",
              "      <td>0.0</td>\n",
              "      <td>2209</td>\n",
              "      <td>155</td>\n",
              "      <td>10</td>\n",
              "      <td>0.096774</td>\n",
              "      <td>0.065341</td>\n",
              "    </tr>\n",
              "  </tbody>\n",
              "</table>\n",
              "</div>"
            ],
            "text/plain": [
              "    url  urlid  ...  parametrizedLinkRatio  spelling_errors_ratio\n",
              "0  2257   5865  ...               0.242647               0.080597\n",
              "1   659    782  ...               0.128205               0.176471\n",
              "2  3093   6962  ...               0.581197               0.125000\n",
              "3  1345   7640  ...               0.038835               0.063126\n",
              "4  3056   3589  ...               0.096774               0.065341\n",
              "\n",
              "[5 rows x 26 columns]"
            ]
          },
          "metadata": {
            "tags": []
          },
          "execution_count": 48
        }
      ]
    },
    {
      "cell_type": "code",
      "metadata": {
        "id": "kW2fWjNSvQx6"
      },
      "source": [
        "x_test = StandardScaler().fit_transform(x_test)"
      ],
      "execution_count": 49,
      "outputs": []
    },
    {
      "cell_type": "code",
      "metadata": {
        "colab": {
          "base_uri": "https://localhost:8080/"
        },
        "id": "8wzNZNEJwb-e",
        "outputId": "5a86f3c7-809f-4d54-b367-d4c8d7a1a29c"
      },
      "source": [
        "x_test"
      ],
      "execution_count": 50,
      "outputs": [
        {
          "output_type": "execute_result",
          "data": {
            "text/plain": [
              "array([[ 0.73411429,  0.20735578, -0.44898954, ..., -0.56902981,\n",
              "         0.40608222, -0.25583941],\n",
              "       [-1.01159201, -1.45697068,  1.01377687, ..., -0.88732114,\n",
              "        -0.22275994,  0.91084661],\n",
              "       [ 1.64738742,  0.56654644,  0.75924022, ..., -1.20561247,\n",
              "         2.26636376,  0.28450075],\n",
              "       ...,\n",
              "       [ 1.31419566,  0.21979812, -0.08302483, ..., -0.25073849,\n",
              "         0.04581886,  0.19502277],\n",
              "       [-1.02470119, -0.67310337, -0.37688903, ...,  2.29559214,\n",
              "         0.90439042,  0.1258853 ],\n",
              "       [ 0.43806522,  0.72338539, -0.8542818 , ..., -0.25073849,\n",
              "         0.65063963,  0.34563346]])"
            ]
          },
          "metadata": {
            "tags": []
          },
          "execution_count": 50
        }
      ]
    },
    {
      "cell_type": "code",
      "metadata": {
        "colab": {
          "base_uri": "https://localhost:8080/"
        },
        "id": "mdfzRuSeTdLc",
        "outputId": "ae4e8ce0-caee-48c6-d414-677e91e7a756"
      },
      "source": [
        "x_test.shape"
      ],
      "execution_count": 51,
      "outputs": [
        {
          "output_type": "execute_result",
          "data": {
            "text/plain": [
              "(3171, 26)"
            ]
          },
          "metadata": {
            "tags": []
          },
          "execution_count": 51
        }
      ]
    },
    {
      "cell_type": "markdown",
      "metadata": {
        "id": "MtshytuVBkB0"
      },
      "source": [
        "Classification Model"
      ]
    },
    {
      "cell_type": "markdown",
      "metadata": {
        "id": "VtQqy5YlC1bW"
      },
      "source": [
        "1. *Random Forest Classifier*"
      ]
    },
    {
      "cell_type": "code",
      "metadata": {
        "id": "RfliBiywwdO6"
      },
      "source": [
        "from sklearn.ensemble import RandomForestClassifier"
      ],
      "execution_count": 52,
      "outputs": []
    },
    {
      "cell_type": "code",
      "metadata": {
        "colab": {
          "base_uri": "https://localhost:8080/"
        },
        "id": "Z_x9e6OaBwhR",
        "outputId": "819d709c-edad-4913-af86-c978cd953c1b"
      },
      "source": [
        "model = RandomForestClassifier(n_estimators=100, n_jobs=-1)\r\n",
        "model.fit(x_train, y_train)\r\n",
        "\r\n",
        "y_pred1 = model.predict(x_test)\r\n",
        "print(y_pred1)"
      ],
      "execution_count": 53,
      "outputs": [
        {
          "output_type": "stream",
          "text": [
            "[1 0 0 ... 1 0 1]\n"
          ],
          "name": "stdout"
        }
      ]
    },
    {
      "cell_type": "code",
      "metadata": {
        "colab": {
          "base_uri": "https://localhost:8080/"
        },
        "id": "M7GERcB7BytL",
        "outputId": "47d0bc21-4abf-401a-9ea0-37510cd98cc2"
      },
      "source": [
        "rfr_train =  model.score(x_train, y_train)\r\n",
        "rfr_test = model.score(x_val, y_val)\r\n",
        "print('Training Accuracy: ', rfr_train)\r\n",
        "print('Testing Accuracy: ', rfr_test)"
      ],
      "execution_count": 54,
      "outputs": [
        {
          "output_type": "stream",
          "text": [
            "Training Accuracy:  1.0\n",
            "Testing Accuracy:  0.6923597025016903\n"
          ],
          "name": "stdout"
        }
      ]
    },
    {
      "cell_type": "code",
      "metadata": {
        "id": "LI7iFk-LDqrm"
      },
      "source": [
        "import numpy as np\r\n",
        "p = model.predict(x_val)\r\n",
        "p = [np.argmax(t) for t in p]"
      ],
      "execution_count": 55,
      "outputs": []
    },
    {
      "cell_type": "code",
      "metadata": {
        "colab": {
          "base_uri": "https://localhost:8080/"
        },
        "id": "sz8UGRQ0B7eH",
        "outputId": "fd40e657-16b7-44a1-e9d7-3f9d64514ffb"
      },
      "source": [
        "from sklearn.metrics import classification_report, confusion_matrix\r\n",
        "print(classification_report(y_val,p))"
      ],
      "execution_count": 56,
      "outputs": [
        {
          "output_type": "stream",
          "text": [
            "              precision    recall  f1-score   support\n",
            "\n",
            "           0       0.49      1.00      0.66       730\n",
            "           1       0.00      0.00      0.00       749\n",
            "\n",
            "    accuracy                           0.49      1479\n",
            "   macro avg       0.25      0.50      0.33      1479\n",
            "weighted avg       0.24      0.49      0.33      1479\n",
            "\n"
          ],
          "name": "stdout"
        },
        {
          "output_type": "stream",
          "text": [
            "/usr/local/lib/python3.6/dist-packages/sklearn/metrics/_classification.py:1272: UndefinedMetricWarning: Precision and F-score are ill-defined and being set to 0.0 in labels with no predicted samples. Use `zero_division` parameter to control this behavior.\n",
            "  _warn_prf(average, modifier, msg_start, len(result))\n"
          ],
          "name": "stderr"
        }
      ]
    },
    {
      "cell_type": "markdown",
      "metadata": {
        "id": "XsBwgkQtEAFo"
      },
      "source": [
        "2. *K-Nearest Neighbours Classifier*"
      ]
    },
    {
      "cell_type": "code",
      "metadata": {
        "id": "R2QjJbu0Dniy"
      },
      "source": [
        "from sklearn.neighbors import KNeighborsClassifier"
      ],
      "execution_count": 57,
      "outputs": []
    },
    {
      "cell_type": "code",
      "metadata": {
        "colab": {
          "base_uri": "https://localhost:8080/"
        },
        "id": "3jmOigOXFO1m",
        "outputId": "37c8010e-ad85-4be5-d0d6-bd8cdcb15451"
      },
      "source": [
        "knc_model = KNeighborsClassifier()\r\n",
        "knc_model.fit(x_train, y_train)\r\n",
        "\r\n",
        "y_pred2 = knc_model.predict(x_test)\r\n",
        "print(y_pred2)"
      ],
      "execution_count": 58,
      "outputs": [
        {
          "output_type": "stream",
          "text": [
            "[1 1 0 ... 0 0 1]\n"
          ],
          "name": "stdout"
        }
      ]
    },
    {
      "cell_type": "code",
      "metadata": {
        "colab": {
          "base_uri": "https://localhost:8080/"
        },
        "id": "TGDWssjMFTMe",
        "outputId": "be8f6f28-5a78-4c29-b03e-5cb4a4b4da02"
      },
      "source": [
        "knc_train = model.score(x_train, y_train)\r\n",
        "knc_test = model.score(x_val, y_val)\r\n",
        "\r\n",
        "print('Training Accuracy: ', knc_train)\r\n",
        "print('Testing Accuracy: ', knc_test)"
      ],
      "execution_count": 59,
      "outputs": [
        {
          "output_type": "stream",
          "text": [
            "Training Accuracy:  1.0\n",
            "Testing Accuracy:  0.6923597025016903\n"
          ],
          "name": "stdout"
        }
      ]
    },
    {
      "cell_type": "code",
      "metadata": {
        "id": "OZKN52t4FZ1Z"
      },
      "source": [
        "knc_p = knc_model.predict(x_val)\r\n",
        "knc_p = [np.argmax(k) for k in knc_p]"
      ],
      "execution_count": 60,
      "outputs": []
    },
    {
      "cell_type": "code",
      "metadata": {
        "colab": {
          "base_uri": "https://localhost:8080/"
        },
        "id": "8C1uR7inFmkw",
        "outputId": "f386e1c6-8367-4263-8efa-0436722241f5"
      },
      "source": [
        "print(classification_report(y_val,knc_p))"
      ],
      "execution_count": 61,
      "outputs": [
        {
          "output_type": "stream",
          "text": [
            "              precision    recall  f1-score   support\n",
            "\n",
            "           0       0.49      1.00      0.66       730\n",
            "           1       0.00      0.00      0.00       749\n",
            "\n",
            "    accuracy                           0.49      1479\n",
            "   macro avg       0.25      0.50      0.33      1479\n",
            "weighted avg       0.24      0.49      0.33      1479\n",
            "\n"
          ],
          "name": "stdout"
        },
        {
          "output_type": "stream",
          "text": [
            "/usr/local/lib/python3.6/dist-packages/sklearn/metrics/_classification.py:1272: UndefinedMetricWarning: Precision and F-score are ill-defined and being set to 0.0 in labels with no predicted samples. Use `zero_division` parameter to control this behavior.\n",
            "  _warn_prf(average, modifier, msg_start, len(result))\n"
          ],
          "name": "stderr"
        }
      ]
    },
    {
      "cell_type": "markdown",
      "metadata": {
        "id": "JM6Auf9-No5y"
      },
      "source": [
        "3. *Support Vector Machine Classifier*"
      ]
    },
    {
      "cell_type": "code",
      "metadata": {
        "id": "1D86_PzBHCvS"
      },
      "source": [
        "from sklearn.svm import SVC"
      ],
      "execution_count": 62,
      "outputs": []
    },
    {
      "cell_type": "code",
      "metadata": {
        "colab": {
          "base_uri": "https://localhost:8080/"
        },
        "id": "vPSNvt3DOpcp",
        "outputId": "4c1afd0b-41a8-460f-9089-5655a7fcb0c7"
      },
      "source": [
        "svc_model = SVC(kernel='rbf')\r\n",
        "svc_model.fit(x_train, y_train)\r\n",
        "\r\n",
        "y_pred3 = svc_model.predict(x_test)\r\n",
        "print(y_pred3)"
      ],
      "execution_count": 63,
      "outputs": [
        {
          "output_type": "stream",
          "text": [
            "[1 0 0 ... 1 0 1]\n"
          ],
          "name": "stdout"
        }
      ]
    },
    {
      "cell_type": "code",
      "metadata": {
        "colab": {
          "base_uri": "https://localhost:8080/"
        },
        "id": "PfTlbfLROyrQ",
        "outputId": "ed375513-8a9e-4c83-9ee4-adedf3ec88e3"
      },
      "source": [
        "svc_train = svc_model.score(x_train, y_train)\r\n",
        "svc_test = svc_model.score(x_val, y_val)\r\n",
        "\r\n",
        "print('Training Accuracy: ', svc_train)\r\n",
        "print('Testing Accuracy: ', svc_test)"
      ],
      "execution_count": 64,
      "outputs": [
        {
          "output_type": "stream",
          "text": [
            "Training Accuracy:  0.7327586206896551\n",
            "Testing Accuracy:  0.656524678837052\n"
          ],
          "name": "stdout"
        }
      ]
    },
    {
      "cell_type": "code",
      "metadata": {
        "id": "Nk84dPVjO7SW"
      },
      "source": [
        "svc_p = svc_model.predict(x_val)\r\n",
        "svc_p = [np.argmax(r) for r in svc_p]"
      ],
      "execution_count": 65,
      "outputs": []
    },
    {
      "cell_type": "code",
      "metadata": {
        "colab": {
          "base_uri": "https://localhost:8080/"
        },
        "id": "IOuhsHLbPDlo",
        "outputId": "1f045c77-8490-4c11-e598-fabc56abba0e"
      },
      "source": [
        "print(classification_report(y_val,svc_p))"
      ],
      "execution_count": 66,
      "outputs": [
        {
          "output_type": "stream",
          "text": [
            "              precision    recall  f1-score   support\n",
            "\n",
            "           0       0.49      1.00      0.66       730\n",
            "           1       0.00      0.00      0.00       749\n",
            "\n",
            "    accuracy                           0.49      1479\n",
            "   macro avg       0.25      0.50      0.33      1479\n",
            "weighted avg       0.24      0.49      0.33      1479\n",
            "\n"
          ],
          "name": "stdout"
        },
        {
          "output_type": "stream",
          "text": [
            "/usr/local/lib/python3.6/dist-packages/sklearn/metrics/_classification.py:1272: UndefinedMetricWarning: Precision and F-score are ill-defined and being set to 0.0 in labels with no predicted samples. Use `zero_division` parameter to control this behavior.\n",
            "  _warn_prf(average, modifier, msg_start, len(result))\n"
          ],
          "name": "stderr"
        }
      ]
    },
    {
      "cell_type": "markdown",
      "metadata": {
        "id": "DARcndmzYg60"
      },
      "source": [
        "4. *XGBoost Classifier*"
      ]
    },
    {
      "cell_type": "code",
      "metadata": {
        "id": "RMarqoY0ZUYg"
      },
      "source": [
        "from xgboost import XGBClassifier"
      ],
      "execution_count": 67,
      "outputs": []
    },
    {
      "cell_type": "code",
      "metadata": {
        "colab": {
          "base_uri": "https://localhost:8080/"
        },
        "id": "3RoQwoUtYmkQ",
        "outputId": "e31ecb57-90de-4c70-d93b-711ca0baa088"
      },
      "source": [
        "xgb_model = XGBClassifier()\r\n",
        "xgb_model.fit(x_train, y_train)\r\n",
        "\r\n",
        "y_pred4 = xgb_model.predict(x_test)\r\n",
        "print(y_pred4)"
      ],
      "execution_count": 68,
      "outputs": [
        {
          "output_type": "stream",
          "text": [
            "[1 0 0 ... 1 0 1]\n"
          ],
          "name": "stdout"
        }
      ]
    },
    {
      "cell_type": "code",
      "metadata": {
        "colab": {
          "base_uri": "https://localhost:8080/"
        },
        "id": "qdggGqA3Z0b8",
        "outputId": "b633fff2-2532-45b9-9179-b3ee0578a903"
      },
      "source": [
        "xgb_train = xgb_model.score(x_train, y_train)\r\n",
        "xgb_test = xgb_model.score(x_val, y_val)\r\n",
        "\r\n",
        "print('Training Accuracy: ', xgb_train)\r\n",
        "print('Testing Accuracy: ', xgb_test)"
      ],
      "execution_count": 69,
      "outputs": [
        {
          "output_type": "stream",
          "text": [
            "Training Accuracy:  0.7528735632183908\n",
            "Testing Accuracy:  0.6883029073698445\n"
          ],
          "name": "stdout"
        }
      ]
    },
    {
      "cell_type": "code",
      "metadata": {
        "id": "Xr9zpzoNZZco"
      },
      "source": [
        "xgb_p = xgb_model.predict(x_val)\r\n",
        "xgb_p = [np.argmax(r) for r in xgb_p]"
      ],
      "execution_count": 70,
      "outputs": []
    },
    {
      "cell_type": "code",
      "metadata": {
        "colab": {
          "base_uri": "https://localhost:8080/"
        },
        "id": "wimpb51-ZyoZ",
        "outputId": "add6498b-14f5-4529-d62a-a9862555d3e8"
      },
      "source": [
        "print(classification_report(y_val,xgb_p))"
      ],
      "execution_count": 71,
      "outputs": [
        {
          "output_type": "stream",
          "text": [
            "              precision    recall  f1-score   support\n",
            "\n",
            "           0       0.49      1.00      0.66       730\n",
            "           1       0.00      0.00      0.00       749\n",
            "\n",
            "    accuracy                           0.49      1479\n",
            "   macro avg       0.25      0.50      0.33      1479\n",
            "weighted avg       0.24      0.49      0.33      1479\n",
            "\n"
          ],
          "name": "stdout"
        },
        {
          "output_type": "stream",
          "text": [
            "/usr/local/lib/python3.6/dist-packages/sklearn/metrics/_classification.py:1272: UndefinedMetricWarning: Precision and F-score are ill-defined and being set to 0.0 in labels with no predicted samples. Use `zero_division` parameter to control this behavior.\n",
            "  _warn_prf(average, modifier, msg_start, len(result))\n"
          ],
          "name": "stderr"
        }
      ]
    },
    {
      "cell_type": "code",
      "metadata": {
        "colab": {
          "base_uri": "https://localhost:8080/",
          "height": 123
        },
        "id": "Db3D5uoQhkqf",
        "outputId": "405b4643-609b-4437-9ddb-7ebe792e0377"
      },
      "source": [
        "table = [[\"Random Forest Classifier\", rfr_train, rfr_test],[\"K-Nearest Neighbours Classifier\",knc_train, knc_test],\r\n",
        "...          [\"Support Vector Machine Classifier\", svc_train, svc_test],[\"XGBoost Classifier\", xgb_train, xgb_test]]\r\n",
        "\r\n",
        "from tabulate import tabulate\r\n",
        "from IPython.display import HTML\r\n",
        "HTML(tabulate(table, headers= ['Algorithm', ' Training Accuracy ',' Testing Accuracy '], tablefmt='html'))"
      ],
      "execution_count": 72,
      "outputs": [
        {
          "output_type": "execute_result",
          "data": {
            "text/html": [
              "<table>\n",
              "<thead>\n",
              "<tr><th>Algorithm                        </th><th style=\"text-align: right;\">   Training Accuracy </th><th style=\"text-align: right;\">   Testing Accuracy </th></tr>\n",
              "</thead>\n",
              "<tbody>\n",
              "<tr><td>Random Forest Classifier         </td><td style=\"text-align: right;\">             1       </td><td style=\"text-align: right;\">            0.69236 </td></tr>\n",
              "<tr><td>K-Nearest Neighbours Classifier  </td><td style=\"text-align: right;\">             1       </td><td style=\"text-align: right;\">            0.69236 </td></tr>\n",
              "<tr><td>Support Vector Machine Classifier</td><td style=\"text-align: right;\">             0.732759</td><td style=\"text-align: right;\">            0.656525</td></tr>\n",
              "<tr><td>XGBoost Classifier               </td><td style=\"text-align: right;\">             0.752874</td><td style=\"text-align: right;\">            0.688303</td></tr>\n",
              "</tbody>\n",
              "</table>"
            ],
            "text/plain": [
              "<IPython.core.display.HTML object>"
            ]
          },
          "metadata": {
            "tags": []
          },
          "execution_count": 72
        }
      ]
    },
    {
      "cell_type": "markdown",
      "metadata": {
        "id": "TM86SFRYXgK0"
      },
      "source": [
        "Saving the Results"
      ]
    },
    {
      "cell_type": "code",
      "metadata": {
        "id": "EccJWIb0Xt59"
      },
      "source": [
        "urlid = df_test.urlid"
      ],
      "execution_count": 73,
      "outputs": []
    },
    {
      "cell_type": "code",
      "metadata": {
        "id": "5v1eSlD6W8bz"
      },
      "source": [
        "results = {'urlid':urlid, 'label':y_pred4}\r\n",
        "final_result = pd.DataFrame(results)\r\n",
        "\r\n",
        "final_result.to_csv('Results.csv', index=False)"
      ],
      "execution_count": 74,
      "outputs": []
    }
  ]
}